{
 "cells": [
  {
   "cell_type": "code",
   "execution_count": 1,
   "id": "98beb7a2",
   "metadata": {},
   "outputs": [],
   "source": [
    "import pandas as pd\n",
    "import numpy as np\n",
    "import seaborn as sns\n",
    "import matplotlib.pyplot as plt \n",
    "%matplotlib inline"
   ]
  },
  {
   "cell_type": "code",
   "execution_count": 2,
   "id": "fe17f356",
   "metadata": {},
   "outputs": [],
   "source": [
    "import warnings\n",
    "warnings.filterwarnings('ignore')"
   ]
  },
  {
   "cell_type": "code",
   "execution_count": 3,
   "id": "45e3dc84",
   "metadata": {},
   "outputs": [
    {
     "data": {
      "text/html": [
       "<div>\n",
       "<style scoped>\n",
       "    .dataframe tbody tr th:only-of-type {\n",
       "        vertical-align: middle;\n",
       "    }\n",
       "\n",
       "    .dataframe tbody tr th {\n",
       "        vertical-align: top;\n",
       "    }\n",
       "\n",
       "    .dataframe thead th {\n",
       "        text-align: right;\n",
       "    }\n",
       "</style>\n",
       "<table border=\"1\" class=\"dataframe\">\n",
       "  <thead>\n",
       "    <tr style=\"text-align: right;\">\n",
       "      <th></th>\n",
       "      <th>day</th>\n",
       "      <th>month</th>\n",
       "      <th>year</th>\n",
       "      <th>Temperature</th>\n",
       "      <th>RH</th>\n",
       "      <th>Ws</th>\n",
       "      <th>Rain</th>\n",
       "      <th>FFMC</th>\n",
       "      <th>DMC</th>\n",
       "      <th>DC</th>\n",
       "      <th>ISI</th>\n",
       "      <th>BUI</th>\n",
       "      <th>FWI</th>\n",
       "      <th>Classes</th>\n",
       "    </tr>\n",
       "  </thead>\n",
       "  <tbody>\n",
       "    <tr>\n",
       "      <th>0</th>\n",
       "      <td>01</td>\n",
       "      <td>06</td>\n",
       "      <td>2012</td>\n",
       "      <td>29</td>\n",
       "      <td>57</td>\n",
       "      <td>18</td>\n",
       "      <td>0</td>\n",
       "      <td>65.7</td>\n",
       "      <td>3.4</td>\n",
       "      <td>7.6</td>\n",
       "      <td>1.3</td>\n",
       "      <td>3.4</td>\n",
       "      <td>0.5</td>\n",
       "      <td>not fire</td>\n",
       "    </tr>\n",
       "    <tr>\n",
       "      <th>1</th>\n",
       "      <td>02</td>\n",
       "      <td>06</td>\n",
       "      <td>2012</td>\n",
       "      <td>29</td>\n",
       "      <td>61</td>\n",
       "      <td>13</td>\n",
       "      <td>1.3</td>\n",
       "      <td>64.4</td>\n",
       "      <td>4.1</td>\n",
       "      <td>7.6</td>\n",
       "      <td>1</td>\n",
       "      <td>3.9</td>\n",
       "      <td>0.4</td>\n",
       "      <td>not fire</td>\n",
       "    </tr>\n",
       "    <tr>\n",
       "      <th>2</th>\n",
       "      <td>03</td>\n",
       "      <td>06</td>\n",
       "      <td>2012</td>\n",
       "      <td>26</td>\n",
       "      <td>82</td>\n",
       "      <td>22</td>\n",
       "      <td>13.1</td>\n",
       "      <td>47.1</td>\n",
       "      <td>2.5</td>\n",
       "      <td>7.1</td>\n",
       "      <td>0.3</td>\n",
       "      <td>2.7</td>\n",
       "      <td>0.1</td>\n",
       "      <td>not fire</td>\n",
       "    </tr>\n",
       "    <tr>\n",
       "      <th>3</th>\n",
       "      <td>04</td>\n",
       "      <td>06</td>\n",
       "      <td>2012</td>\n",
       "      <td>25</td>\n",
       "      <td>89</td>\n",
       "      <td>13</td>\n",
       "      <td>2.5</td>\n",
       "      <td>28.6</td>\n",
       "      <td>1.3</td>\n",
       "      <td>6.9</td>\n",
       "      <td>0</td>\n",
       "      <td>1.7</td>\n",
       "      <td>0</td>\n",
       "      <td>not fire</td>\n",
       "    </tr>\n",
       "    <tr>\n",
       "      <th>4</th>\n",
       "      <td>05</td>\n",
       "      <td>06</td>\n",
       "      <td>2012</td>\n",
       "      <td>27</td>\n",
       "      <td>77</td>\n",
       "      <td>16</td>\n",
       "      <td>0</td>\n",
       "      <td>64.8</td>\n",
       "      <td>3</td>\n",
       "      <td>14.2</td>\n",
       "      <td>1.2</td>\n",
       "      <td>3.9</td>\n",
       "      <td>0.5</td>\n",
       "      <td>not fire</td>\n",
       "    </tr>\n",
       "    <tr>\n",
       "      <th>...</th>\n",
       "      <td>...</td>\n",
       "      <td>...</td>\n",
       "      <td>...</td>\n",
       "      <td>...</td>\n",
       "      <td>...</td>\n",
       "      <td>...</td>\n",
       "      <td>...</td>\n",
       "      <td>...</td>\n",
       "      <td>...</td>\n",
       "      <td>...</td>\n",
       "      <td>...</td>\n",
       "      <td>...</td>\n",
       "      <td>...</td>\n",
       "      <td>...</td>\n",
       "    </tr>\n",
       "    <tr>\n",
       "      <th>241</th>\n",
       "      <td>26</td>\n",
       "      <td>09</td>\n",
       "      <td>2012</td>\n",
       "      <td>30</td>\n",
       "      <td>65</td>\n",
       "      <td>14</td>\n",
       "      <td>0</td>\n",
       "      <td>85.4</td>\n",
       "      <td>16</td>\n",
       "      <td>44.5</td>\n",
       "      <td>4.5</td>\n",
       "      <td>16.9</td>\n",
       "      <td>6.5</td>\n",
       "      <td>fire</td>\n",
       "    </tr>\n",
       "    <tr>\n",
       "      <th>242</th>\n",
       "      <td>27</td>\n",
       "      <td>09</td>\n",
       "      <td>2012</td>\n",
       "      <td>28</td>\n",
       "      <td>87</td>\n",
       "      <td>15</td>\n",
       "      <td>4.4</td>\n",
       "      <td>41.1</td>\n",
       "      <td>6.5</td>\n",
       "      <td>8</td>\n",
       "      <td>0.1</td>\n",
       "      <td>6.2</td>\n",
       "      <td>0</td>\n",
       "      <td>not fire</td>\n",
       "    </tr>\n",
       "    <tr>\n",
       "      <th>243</th>\n",
       "      <td>28</td>\n",
       "      <td>09</td>\n",
       "      <td>2012</td>\n",
       "      <td>27</td>\n",
       "      <td>87</td>\n",
       "      <td>29</td>\n",
       "      <td>0.5</td>\n",
       "      <td>45.9</td>\n",
       "      <td>3.5</td>\n",
       "      <td>7.9</td>\n",
       "      <td>0.4</td>\n",
       "      <td>3.4</td>\n",
       "      <td>0.2</td>\n",
       "      <td>not fire</td>\n",
       "    </tr>\n",
       "    <tr>\n",
       "      <th>244</th>\n",
       "      <td>29</td>\n",
       "      <td>09</td>\n",
       "      <td>2012</td>\n",
       "      <td>24</td>\n",
       "      <td>54</td>\n",
       "      <td>18</td>\n",
       "      <td>0.1</td>\n",
       "      <td>79.7</td>\n",
       "      <td>4.3</td>\n",
       "      <td>15.2</td>\n",
       "      <td>1.7</td>\n",
       "      <td>5.1</td>\n",
       "      <td>0.7</td>\n",
       "      <td>not fire</td>\n",
       "    </tr>\n",
       "    <tr>\n",
       "      <th>245</th>\n",
       "      <td>30</td>\n",
       "      <td>09</td>\n",
       "      <td>2012</td>\n",
       "      <td>24</td>\n",
       "      <td>64</td>\n",
       "      <td>15</td>\n",
       "      <td>0.2</td>\n",
       "      <td>67.3</td>\n",
       "      <td>3.8</td>\n",
       "      <td>16.5</td>\n",
       "      <td>1.2</td>\n",
       "      <td>4.8</td>\n",
       "      <td>0.5</td>\n",
       "      <td>not fire</td>\n",
       "    </tr>\n",
       "  </tbody>\n",
       "</table>\n",
       "<p>246 rows × 14 columns</p>\n",
       "</div>"
      ],
      "text/plain": [
       "    day month  year Temperature  RH  Ws Rain   FFMC  DMC    DC  ISI   BUI  \\\n",
       "0    01    06  2012          29  57  18     0  65.7  3.4   7.6  1.3   3.4   \n",
       "1    02    06  2012          29  61  13   1.3  64.4  4.1   7.6    1   3.9   \n",
       "2    03    06  2012          26  82  22  13.1  47.1  2.5   7.1  0.3   2.7   \n",
       "3    04    06  2012          25  89  13   2.5  28.6  1.3   6.9    0   1.7   \n",
       "4    05    06  2012          27  77  16     0  64.8    3  14.2  1.2   3.9   \n",
       "..   ..   ...   ...         ...  ..  ..   ...   ...  ...   ...  ...   ...   \n",
       "241  26    09  2012          30  65  14     0  85.4   16  44.5  4.5  16.9   \n",
       "242  27    09  2012          28  87  15   4.4  41.1  6.5     8  0.1   6.2   \n",
       "243  28    09  2012          27  87  29   0.5  45.9  3.5   7.9  0.4   3.4   \n",
       "244  29    09  2012          24  54  18   0.1  79.7  4.3  15.2  1.7   5.1   \n",
       "245  30    09  2012          24  64  15   0.2  67.3  3.8  16.5  1.2   4.8   \n",
       "\n",
       "     FWI     Classes    \n",
       "0    0.5   not fire     \n",
       "1    0.4   not fire     \n",
       "2    0.1   not fire     \n",
       "3      0   not fire     \n",
       "4    0.5   not fire     \n",
       "..   ...           ...  \n",
       "241  6.5       fire     \n",
       "242    0   not fire     \n",
       "243  0.2   not fire     \n",
       "244  0.7   not fire     \n",
       "245  0.5  not fire      \n",
       "\n",
       "[246 rows x 14 columns]"
      ]
     },
     "execution_count": 3,
     "metadata": {},
     "output_type": "execute_result"
    }
   ],
   "source": [
    "l = pd.read_csv('/Users/barnalikkapradhan/Downloads/Algerian.csv', header = 1) \n",
    "l"
   ]
  },
  {
   "cell_type": "code",
   "execution_count": 4,
   "id": "85d07164",
   "metadata": {},
   "outputs": [
    {
     "data": {
      "text/plain": [
       "Index(['day', 'month', 'year', 'Temperature', ' RH', ' Ws', 'Rain ', 'FFMC',\n",
       "       'DMC', 'DC', 'ISI', 'BUI', 'FWI', 'Classes  '],\n",
       "      dtype='object')"
      ]
     },
     "execution_count": 4,
     "metadata": {},
     "output_type": "execute_result"
    }
   ],
   "source": [
    "#to strip all columns form the dataset\n",
    "l.columns"
   ]
  },
  {
   "cell_type": "code",
   "execution_count": 5,
   "id": "758e21b8",
   "metadata": {},
   "outputs": [
    {
     "data": {
      "text/plain": [
       "Index(['day', 'month', 'year', 'Temperature', 'RH', 'Ws', 'Rain', 'FFMC',\n",
       "       'DMC', 'DC', 'ISI', 'BUI', 'FWI', 'Classes'],\n",
       "      dtype='object')"
      ]
     },
     "execution_count": 5,
     "metadata": {},
     "output_type": "execute_result"
    }
   ],
   "source": [
    "#the gaps in columns have to be removed\n",
    "l.columns =[i.strip() for i in l.columns]\n",
    "l.columns"
   ]
  },
  {
   "cell_type": "code",
   "execution_count": 6,
   "id": "b3919c36",
   "metadata": {},
   "outputs": [
    {
     "data": {
      "text/html": [
       "<div>\n",
       "<style scoped>\n",
       "    .dataframe tbody tr th:only-of-type {\n",
       "        vertical-align: middle;\n",
       "    }\n",
       "\n",
       "    .dataframe tbody tr th {\n",
       "        vertical-align: top;\n",
       "    }\n",
       "\n",
       "    .dataframe thead th {\n",
       "        text-align: right;\n",
       "    }\n",
       "</style>\n",
       "<table border=\"1\" class=\"dataframe\">\n",
       "  <thead>\n",
       "    <tr style=\"text-align: right;\">\n",
       "      <th></th>\n",
       "      <th>day</th>\n",
       "      <th>month</th>\n",
       "      <th>year</th>\n",
       "      <th>Temperature</th>\n",
       "      <th>RH</th>\n",
       "      <th>Ws</th>\n",
       "      <th>Rain</th>\n",
       "      <th>FFMC</th>\n",
       "      <th>DMC</th>\n",
       "      <th>DC</th>\n",
       "      <th>ISI</th>\n",
       "      <th>BUI</th>\n",
       "      <th>FWI</th>\n",
       "      <th>Classes</th>\n",
       "    </tr>\n",
       "  </thead>\n",
       "  <tbody>\n",
       "    <tr>\n",
       "      <th>120</th>\n",
       "      <td>29</td>\n",
       "      <td>09</td>\n",
       "      <td>2012</td>\n",
       "      <td>26</td>\n",
       "      <td>80</td>\n",
       "      <td>16</td>\n",
       "      <td>1.8</td>\n",
       "      <td>47.4</td>\n",
       "      <td>2.9</td>\n",
       "      <td>7.7</td>\n",
       "      <td>0.3</td>\n",
       "      <td>3</td>\n",
       "      <td>0.1</td>\n",
       "      <td>not fire</td>\n",
       "    </tr>\n",
       "    <tr>\n",
       "      <th>121</th>\n",
       "      <td>30</td>\n",
       "      <td>09</td>\n",
       "      <td>2012</td>\n",
       "      <td>25</td>\n",
       "      <td>78</td>\n",
       "      <td>14</td>\n",
       "      <td>1.4</td>\n",
       "      <td>45</td>\n",
       "      <td>1.9</td>\n",
       "      <td>7.5</td>\n",
       "      <td>0.2</td>\n",
       "      <td>2.4</td>\n",
       "      <td>0.1</td>\n",
       "      <td>not fire</td>\n",
       "    </tr>\n",
       "    <tr>\n",
       "      <th>124</th>\n",
       "      <td>01</td>\n",
       "      <td>06</td>\n",
       "      <td>2012</td>\n",
       "      <td>32</td>\n",
       "      <td>71</td>\n",
       "      <td>12</td>\n",
       "      <td>0.7</td>\n",
       "      <td>57.1</td>\n",
       "      <td>2.5</td>\n",
       "      <td>8.2</td>\n",
       "      <td>0.6</td>\n",
       "      <td>2.8</td>\n",
       "      <td>0.2</td>\n",
       "      <td>not fire</td>\n",
       "    </tr>\n",
       "    <tr>\n",
       "      <th>125</th>\n",
       "      <td>02</td>\n",
       "      <td>06</td>\n",
       "      <td>2012</td>\n",
       "      <td>30</td>\n",
       "      <td>73</td>\n",
       "      <td>13</td>\n",
       "      <td>4</td>\n",
       "      <td>55.7</td>\n",
       "      <td>2.7</td>\n",
       "      <td>7.8</td>\n",
       "      <td>0.6</td>\n",
       "      <td>2.9</td>\n",
       "      <td>0.2</td>\n",
       "      <td>not fire</td>\n",
       "    </tr>\n",
       "    <tr>\n",
       "      <th>126</th>\n",
       "      <td>03</td>\n",
       "      <td>06</td>\n",
       "      <td>2012</td>\n",
       "      <td>29</td>\n",
       "      <td>80</td>\n",
       "      <td>14</td>\n",
       "      <td>2</td>\n",
       "      <td>48.7</td>\n",
       "      <td>2.2</td>\n",
       "      <td>7.6</td>\n",
       "      <td>0.3</td>\n",
       "      <td>2.6</td>\n",
       "      <td>0.1</td>\n",
       "      <td>not fire</td>\n",
       "    </tr>\n",
       "  </tbody>\n",
       "</table>\n",
       "</div>"
      ],
      "text/plain": [
       "    day month  year Temperature  RH  Ws Rain  FFMC  DMC   DC  ISI  BUI  FWI  \\\n",
       "120  29    09  2012          26  80  16  1.8  47.4  2.9  7.7  0.3    3  0.1   \n",
       "121  30    09  2012          25  78  14  1.4    45  1.9  7.5  0.2  2.4  0.1   \n",
       "124  01    06  2012          32  71  12  0.7  57.1  2.5  8.2  0.6  2.8  0.2   \n",
       "125  02    06  2012          30  73  13    4  55.7  2.7  7.8  0.6  2.9  0.2   \n",
       "126  03    06  2012          29  80  14    2  48.7  2.2  7.6  0.3  2.6  0.1   \n",
       "\n",
       "         Classes  \n",
       "120  not fire     \n",
       "121  not fire     \n",
       "124  not fire     \n",
       "125  not fire     \n",
       "126  not fire     "
      ]
     },
     "execution_count": 6,
     "metadata": {},
     "output_type": "execute_result"
    }
   ],
   "source": [
    "# axis =0 remove rows. axis = 1 removes columns\n",
    "#as can be seen below that rows 122, 123 has been removed from the dataset as they contai #region and repitition of the name of columns\n",
    "l.drop([122,123], axis = 0, inplace= True)\n",
    "l[120:125]"
   ]
  },
  {
   "cell_type": "code",
   "execution_count": 7,
   "id": "f6d8e1f3",
   "metadata": {},
   "outputs": [
    {
     "data": {
      "text/plain": [
       "(244, 14)"
      ]
     },
     "execution_count": 7,
     "metadata": {},
     "output_type": "execute_result"
    }
   ],
   "source": [
    "## to see the original rows & columns of a dataset\n",
    "l.shape"
   ]
  },
  {
   "cell_type": "code",
   "execution_count": 8,
   "id": "9daaefaa",
   "metadata": {
    "scrolled": true
   },
   "outputs": [
    {
     "data": {
      "text/html": [
       "<div>\n",
       "<style scoped>\n",
       "    .dataframe tbody tr th:only-of-type {\n",
       "        vertical-align: middle;\n",
       "    }\n",
       "\n",
       "    .dataframe tbody tr th {\n",
       "        vertical-align: top;\n",
       "    }\n",
       "\n",
       "    .dataframe thead th {\n",
       "        text-align: right;\n",
       "    }\n",
       "</style>\n",
       "<table border=\"1\" class=\"dataframe\">\n",
       "  <thead>\n",
       "    <tr style=\"text-align: right;\">\n",
       "      <th></th>\n",
       "      <th>Temperature</th>\n",
       "      <th>RH</th>\n",
       "      <th>Ws</th>\n",
       "      <th>Rain</th>\n",
       "      <th>FFMC</th>\n",
       "      <th>DMC</th>\n",
       "      <th>DC</th>\n",
       "      <th>ISI</th>\n",
       "      <th>BUI</th>\n",
       "      <th>FWI</th>\n",
       "      <th>Classes</th>\n",
       "    </tr>\n",
       "  </thead>\n",
       "  <tbody>\n",
       "    <tr>\n",
       "      <th>0</th>\n",
       "      <td>29</td>\n",
       "      <td>57</td>\n",
       "      <td>18</td>\n",
       "      <td>0</td>\n",
       "      <td>65.7</td>\n",
       "      <td>3.4</td>\n",
       "      <td>7.6</td>\n",
       "      <td>1.3</td>\n",
       "      <td>3.4</td>\n",
       "      <td>0.5</td>\n",
       "      <td>not fire</td>\n",
       "    </tr>\n",
       "    <tr>\n",
       "      <th>1</th>\n",
       "      <td>29</td>\n",
       "      <td>61</td>\n",
       "      <td>13</td>\n",
       "      <td>1.3</td>\n",
       "      <td>64.4</td>\n",
       "      <td>4.1</td>\n",
       "      <td>7.6</td>\n",
       "      <td>1</td>\n",
       "      <td>3.9</td>\n",
       "      <td>0.4</td>\n",
       "      <td>not fire</td>\n",
       "    </tr>\n",
       "    <tr>\n",
       "      <th>2</th>\n",
       "      <td>26</td>\n",
       "      <td>82</td>\n",
       "      <td>22</td>\n",
       "      <td>13.1</td>\n",
       "      <td>47.1</td>\n",
       "      <td>2.5</td>\n",
       "      <td>7.1</td>\n",
       "      <td>0.3</td>\n",
       "      <td>2.7</td>\n",
       "      <td>0.1</td>\n",
       "      <td>not fire</td>\n",
       "    </tr>\n",
       "    <tr>\n",
       "      <th>3</th>\n",
       "      <td>25</td>\n",
       "      <td>89</td>\n",
       "      <td>13</td>\n",
       "      <td>2.5</td>\n",
       "      <td>28.6</td>\n",
       "      <td>1.3</td>\n",
       "      <td>6.9</td>\n",
       "      <td>0</td>\n",
       "      <td>1.7</td>\n",
       "      <td>0</td>\n",
       "      <td>not fire</td>\n",
       "    </tr>\n",
       "    <tr>\n",
       "      <th>4</th>\n",
       "      <td>27</td>\n",
       "      <td>77</td>\n",
       "      <td>16</td>\n",
       "      <td>0</td>\n",
       "      <td>64.8</td>\n",
       "      <td>3</td>\n",
       "      <td>14.2</td>\n",
       "      <td>1.2</td>\n",
       "      <td>3.9</td>\n",
       "      <td>0.5</td>\n",
       "      <td>not fire</td>\n",
       "    </tr>\n",
       "    <tr>\n",
       "      <th>...</th>\n",
       "      <td>...</td>\n",
       "      <td>...</td>\n",
       "      <td>...</td>\n",
       "      <td>...</td>\n",
       "      <td>...</td>\n",
       "      <td>...</td>\n",
       "      <td>...</td>\n",
       "      <td>...</td>\n",
       "      <td>...</td>\n",
       "      <td>...</td>\n",
       "      <td>...</td>\n",
       "    </tr>\n",
       "    <tr>\n",
       "      <th>241</th>\n",
       "      <td>30</td>\n",
       "      <td>65</td>\n",
       "      <td>14</td>\n",
       "      <td>0</td>\n",
       "      <td>85.4</td>\n",
       "      <td>16</td>\n",
       "      <td>44.5</td>\n",
       "      <td>4.5</td>\n",
       "      <td>16.9</td>\n",
       "      <td>6.5</td>\n",
       "      <td>fire</td>\n",
       "    </tr>\n",
       "    <tr>\n",
       "      <th>242</th>\n",
       "      <td>28</td>\n",
       "      <td>87</td>\n",
       "      <td>15</td>\n",
       "      <td>4.4</td>\n",
       "      <td>41.1</td>\n",
       "      <td>6.5</td>\n",
       "      <td>8</td>\n",
       "      <td>0.1</td>\n",
       "      <td>6.2</td>\n",
       "      <td>0</td>\n",
       "      <td>not fire</td>\n",
       "    </tr>\n",
       "    <tr>\n",
       "      <th>243</th>\n",
       "      <td>27</td>\n",
       "      <td>87</td>\n",
       "      <td>29</td>\n",
       "      <td>0.5</td>\n",
       "      <td>45.9</td>\n",
       "      <td>3.5</td>\n",
       "      <td>7.9</td>\n",
       "      <td>0.4</td>\n",
       "      <td>3.4</td>\n",
       "      <td>0.2</td>\n",
       "      <td>not fire</td>\n",
       "    </tr>\n",
       "    <tr>\n",
       "      <th>244</th>\n",
       "      <td>24</td>\n",
       "      <td>54</td>\n",
       "      <td>18</td>\n",
       "      <td>0.1</td>\n",
       "      <td>79.7</td>\n",
       "      <td>4.3</td>\n",
       "      <td>15.2</td>\n",
       "      <td>1.7</td>\n",
       "      <td>5.1</td>\n",
       "      <td>0.7</td>\n",
       "      <td>not fire</td>\n",
       "    </tr>\n",
       "    <tr>\n",
       "      <th>245</th>\n",
       "      <td>24</td>\n",
       "      <td>64</td>\n",
       "      <td>15</td>\n",
       "      <td>0.2</td>\n",
       "      <td>67.3</td>\n",
       "      <td>3.8</td>\n",
       "      <td>16.5</td>\n",
       "      <td>1.2</td>\n",
       "      <td>4.8</td>\n",
       "      <td>0.5</td>\n",
       "      <td>not fire</td>\n",
       "    </tr>\n",
       "  </tbody>\n",
       "</table>\n",
       "<p>244 rows × 11 columns</p>\n",
       "</div>"
      ],
      "text/plain": [
       "    Temperature  RH  Ws  Rain  FFMC  DMC    DC  ISI   BUI  FWI       Classes\n",
       "0            29  57  18     0  65.7  3.4   7.6  1.3   3.4  0.5   not fire   \n",
       "1            29  61  13   1.3  64.4  4.1   7.6    1   3.9  0.4   not fire   \n",
       "2            26  82  22  13.1  47.1  2.5   7.1  0.3   2.7  0.1   not fire   \n",
       "3            25  89  13   2.5  28.6  1.3   6.9    0   1.7    0   not fire   \n",
       "4            27  77  16     0  64.8    3  14.2  1.2   3.9  0.5   not fire   \n",
       "..          ...  ..  ..   ...   ...  ...   ...  ...   ...  ...           ...\n",
       "241          30  65  14     0  85.4   16  44.5  4.5  16.9  6.5       fire   \n",
       "242          28  87  15   4.4  41.1  6.5     8  0.1   6.2    0   not fire   \n",
       "243          27  87  29   0.5  45.9  3.5   7.9  0.4   3.4  0.2   not fire   \n",
       "244          24  54  18   0.1  79.7  4.3  15.2  1.7   5.1  0.7   not fire   \n",
       "245          24  64  15   0.2  67.3  3.8  16.5  1.2   4.8  0.5  not fire    \n",
       "\n",
       "[244 rows x 11 columns]"
      ]
     },
     "execution_count": 8,
     "metadata": {},
     "output_type": "execute_result"
    }
   ],
   "source": [
    "#to convert dtype from object to datetime if needed.\n",
    "l.drop(['day', 'month', 'year'], axis=1, inplace=True)\n",
    "l"
   ]
  },
  {
   "cell_type": "code",
   "execution_count": 9,
   "id": "1cdb4dbe",
   "metadata": {},
   "outputs": [
    {
     "data": {
      "text/html": [
       "<div>\n",
       "<style scoped>\n",
       "    .dataframe tbody tr th:only-of-type {\n",
       "        vertical-align: middle;\n",
       "    }\n",
       "\n",
       "    .dataframe tbody tr th {\n",
       "        vertical-align: top;\n",
       "    }\n",
       "\n",
       "    .dataframe thead th {\n",
       "        text-align: right;\n",
       "    }\n",
       "</style>\n",
       "<table border=\"1\" class=\"dataframe\">\n",
       "  <thead>\n",
       "    <tr style=\"text-align: right;\">\n",
       "      <th></th>\n",
       "      <th>Temperature</th>\n",
       "      <th>RH</th>\n",
       "      <th>Ws</th>\n",
       "      <th>Rain</th>\n",
       "      <th>FFMC</th>\n",
       "      <th>DMC</th>\n",
       "      <th>DC</th>\n",
       "      <th>ISI</th>\n",
       "      <th>BUI</th>\n",
       "      <th>FWI</th>\n",
       "      <th>Classes</th>\n",
       "      <th>Region</th>\n",
       "    </tr>\n",
       "  </thead>\n",
       "  <tbody>\n",
       "    <tr>\n",
       "      <th>0</th>\n",
       "      <td>29</td>\n",
       "      <td>57</td>\n",
       "      <td>18</td>\n",
       "      <td>0</td>\n",
       "      <td>65.7</td>\n",
       "      <td>3.4</td>\n",
       "      <td>7.6</td>\n",
       "      <td>1.3</td>\n",
       "      <td>3.4</td>\n",
       "      <td>0.5</td>\n",
       "      <td>not fire</td>\n",
       "      <td>Bejaia</td>\n",
       "    </tr>\n",
       "    <tr>\n",
       "      <th>1</th>\n",
       "      <td>29</td>\n",
       "      <td>61</td>\n",
       "      <td>13</td>\n",
       "      <td>1.3</td>\n",
       "      <td>64.4</td>\n",
       "      <td>4.1</td>\n",
       "      <td>7.6</td>\n",
       "      <td>1</td>\n",
       "      <td>3.9</td>\n",
       "      <td>0.4</td>\n",
       "      <td>not fire</td>\n",
       "      <td>Bejaia</td>\n",
       "    </tr>\n",
       "    <tr>\n",
       "      <th>2</th>\n",
       "      <td>26</td>\n",
       "      <td>82</td>\n",
       "      <td>22</td>\n",
       "      <td>13.1</td>\n",
       "      <td>47.1</td>\n",
       "      <td>2.5</td>\n",
       "      <td>7.1</td>\n",
       "      <td>0.3</td>\n",
       "      <td>2.7</td>\n",
       "      <td>0.1</td>\n",
       "      <td>not fire</td>\n",
       "      <td>Bejaia</td>\n",
       "    </tr>\n",
       "    <tr>\n",
       "      <th>3</th>\n",
       "      <td>25</td>\n",
       "      <td>89</td>\n",
       "      <td>13</td>\n",
       "      <td>2.5</td>\n",
       "      <td>28.6</td>\n",
       "      <td>1.3</td>\n",
       "      <td>6.9</td>\n",
       "      <td>0</td>\n",
       "      <td>1.7</td>\n",
       "      <td>0</td>\n",
       "      <td>not fire</td>\n",
       "      <td>Bejaia</td>\n",
       "    </tr>\n",
       "    <tr>\n",
       "      <th>4</th>\n",
       "      <td>27</td>\n",
       "      <td>77</td>\n",
       "      <td>16</td>\n",
       "      <td>0</td>\n",
       "      <td>64.8</td>\n",
       "      <td>3</td>\n",
       "      <td>14.2</td>\n",
       "      <td>1.2</td>\n",
       "      <td>3.9</td>\n",
       "      <td>0.5</td>\n",
       "      <td>not fire</td>\n",
       "      <td>Bejaia</td>\n",
       "    </tr>\n",
       "    <tr>\n",
       "      <th>...</th>\n",
       "      <td>...</td>\n",
       "      <td>...</td>\n",
       "      <td>...</td>\n",
       "      <td>...</td>\n",
       "      <td>...</td>\n",
       "      <td>...</td>\n",
       "      <td>...</td>\n",
       "      <td>...</td>\n",
       "      <td>...</td>\n",
       "      <td>...</td>\n",
       "      <td>...</td>\n",
       "      <td>...</td>\n",
       "    </tr>\n",
       "    <tr>\n",
       "      <th>241</th>\n",
       "      <td>30</td>\n",
       "      <td>65</td>\n",
       "      <td>14</td>\n",
       "      <td>0</td>\n",
       "      <td>85.4</td>\n",
       "      <td>16</td>\n",
       "      <td>44.5</td>\n",
       "      <td>4.5</td>\n",
       "      <td>16.9</td>\n",
       "      <td>6.5</td>\n",
       "      <td>fire</td>\n",
       "      <td>Sidi Bel Abbes</td>\n",
       "    </tr>\n",
       "    <tr>\n",
       "      <th>242</th>\n",
       "      <td>28</td>\n",
       "      <td>87</td>\n",
       "      <td>15</td>\n",
       "      <td>4.4</td>\n",
       "      <td>41.1</td>\n",
       "      <td>6.5</td>\n",
       "      <td>8</td>\n",
       "      <td>0.1</td>\n",
       "      <td>6.2</td>\n",
       "      <td>0</td>\n",
       "      <td>not fire</td>\n",
       "      <td>Sidi Bel Abbes</td>\n",
       "    </tr>\n",
       "    <tr>\n",
       "      <th>243</th>\n",
       "      <td>27</td>\n",
       "      <td>87</td>\n",
       "      <td>29</td>\n",
       "      <td>0.5</td>\n",
       "      <td>45.9</td>\n",
       "      <td>3.5</td>\n",
       "      <td>7.9</td>\n",
       "      <td>0.4</td>\n",
       "      <td>3.4</td>\n",
       "      <td>0.2</td>\n",
       "      <td>not fire</td>\n",
       "      <td>Sidi Bel Abbes</td>\n",
       "    </tr>\n",
       "    <tr>\n",
       "      <th>244</th>\n",
       "      <td>24</td>\n",
       "      <td>54</td>\n",
       "      <td>18</td>\n",
       "      <td>0.1</td>\n",
       "      <td>79.7</td>\n",
       "      <td>4.3</td>\n",
       "      <td>15.2</td>\n",
       "      <td>1.7</td>\n",
       "      <td>5.1</td>\n",
       "      <td>0.7</td>\n",
       "      <td>not fire</td>\n",
       "      <td>Sidi Bel Abbes</td>\n",
       "    </tr>\n",
       "    <tr>\n",
       "      <th>245</th>\n",
       "      <td>24</td>\n",
       "      <td>64</td>\n",
       "      <td>15</td>\n",
       "      <td>0.2</td>\n",
       "      <td>67.3</td>\n",
       "      <td>3.8</td>\n",
       "      <td>16.5</td>\n",
       "      <td>1.2</td>\n",
       "      <td>4.8</td>\n",
       "      <td>0.5</td>\n",
       "      <td>not fire</td>\n",
       "      <td>Sidi Bel Abbes</td>\n",
       "    </tr>\n",
       "  </tbody>\n",
       "</table>\n",
       "<p>244 rows × 12 columns</p>\n",
       "</div>"
      ],
      "text/plain": [
       "    Temperature  RH  Ws  Rain  FFMC  DMC    DC  ISI   BUI  FWI       Classes  \\\n",
       "0            29  57  18     0  65.7  3.4   7.6  1.3   3.4  0.5   not fire      \n",
       "1            29  61  13   1.3  64.4  4.1   7.6    1   3.9  0.4   not fire      \n",
       "2            26  82  22  13.1  47.1  2.5   7.1  0.3   2.7  0.1   not fire      \n",
       "3            25  89  13   2.5  28.6  1.3   6.9    0   1.7    0   not fire      \n",
       "4            27  77  16     0  64.8    3  14.2  1.2   3.9  0.5   not fire      \n",
       "..          ...  ..  ..   ...   ...  ...   ...  ...   ...  ...           ...   \n",
       "241          30  65  14     0  85.4   16  44.5  4.5  16.9  6.5       fire      \n",
       "242          28  87  15   4.4  41.1  6.5     8  0.1   6.2    0   not fire      \n",
       "243          27  87  29   0.5  45.9  3.5   7.9  0.4   3.4  0.2   not fire      \n",
       "244          24  54  18   0.1  79.7  4.3  15.2  1.7   5.1  0.7   not fire      \n",
       "245          24  64  15   0.2  67.3  3.8  16.5  1.2   4.8  0.5  not fire       \n",
       "\n",
       "             Region  \n",
       "0            Bejaia  \n",
       "1            Bejaia  \n",
       "2            Bejaia  \n",
       "3            Bejaia  \n",
       "4            Bejaia  \n",
       "..              ...  \n",
       "241  Sidi Bel Abbes  \n",
       "242  Sidi Bel Abbes  \n",
       "243  Sidi Bel Abbes  \n",
       "244  Sidi Bel Abbes  \n",
       "245  Sidi Bel Abbes  \n",
       "\n",
       "[244 rows x 12 columns]"
      ]
     },
     "execution_count": 9,
     "metadata": {},
     "output_type": "execute_result"
    }
   ],
   "source": [
    "# add Regions\n",
    "# for loc :first part is for rows, second part for columns\n",
    "# \":\" indicates from 0 to the specified no, \",\" indicates specific nos with 3 AND 6 \n",
    "l.loc[0:122,'Region'] ='Bejaia'\n",
    "l.loc[122:,'Region']= 'Sidi Bel Abbes'\n",
    "l"
   ]
  },
  {
   "cell_type": "code",
   "execution_count": 10,
   "id": "95b52f60",
   "metadata": {},
   "outputs": [
    {
     "name": "stdout",
     "output_type": "stream",
     "text": [
      "<class 'pandas.core.frame.DataFrame'>\n",
      "Int64Index: 244 entries, 0 to 245\n",
      "Data columns (total 12 columns):\n",
      " #   Column       Non-Null Count  Dtype \n",
      "---  ------       --------------  ----- \n",
      " 0   Temperature  244 non-null    object\n",
      " 1   RH           244 non-null    object\n",
      " 2   Ws           244 non-null    object\n",
      " 3   Rain         244 non-null    object\n",
      " 4   FFMC         244 non-null    object\n",
      " 5   DMC          244 non-null    object\n",
      " 6   DC           244 non-null    object\n",
      " 7   ISI          244 non-null    object\n",
      " 8   BUI          244 non-null    object\n",
      " 9   FWI          244 non-null    object\n",
      " 10  Classes      243 non-null    object\n",
      " 11  Region       244 non-null    object\n",
      "dtypes: object(12)\n",
      "memory usage: 32.9+ KB\n"
     ]
    }
   ],
   "source": [
    "# One can see that a lot of numerical columns have been identified as object so we need to convert object datatypes into respective numerical categories.\n",
    "l.info()"
   ]
  },
  {
   "cell_type": "code",
   "execution_count": 11,
   "id": "31efc834",
   "metadata": {},
   "outputs": [],
   "source": [
    "#since we see a invalid no 14.6 9 in the column we have to correct it unde the attribute DC\n",
    "l['DC'] = l['DC'].str.split(' ').str[0]"
   ]
  },
  {
   "cell_type": "code",
   "execution_count": 12,
   "id": "29bff399",
   "metadata": {},
   "outputs": [],
   "source": [
    "#since we see an invalid \"fire\" named string in FWI column we have to replace it with a number \n",
    "l['FWI'] = l['FWI'].str.replace('fire','0')"
   ]
  },
  {
   "cell_type": "code",
   "execution_count": 13,
   "id": "14a6af12",
   "metadata": {},
   "outputs": [],
   "source": [
    "#Finallly we create a dictionary, to input values as the correct numerical variables.\n",
    "l = l.astype({'Temperature':float, 'RH':int,'Ws':int, 'Rain':float, 'FFMC':float,'DMC':float,'DC':float, 'ISI':float, 'BUI':float, 'FWI':float})"
   ]
  },
  {
   "cell_type": "code",
   "execution_count": 14,
   "id": "c9945b3c",
   "metadata": {
    "scrolled": true
   },
   "outputs": [
    {
     "name": "stdout",
     "output_type": "stream",
     "text": [
      "<class 'pandas.core.frame.DataFrame'>\n",
      "Int64Index: 244 entries, 0 to 245\n",
      "Data columns (total 12 columns):\n",
      " #   Column       Non-Null Count  Dtype  \n",
      "---  ------       --------------  -----  \n",
      " 0   Temperature  244 non-null    float64\n",
      " 1   RH           244 non-null    int64  \n",
      " 2   Ws           244 non-null    int64  \n",
      " 3   Rain         244 non-null    float64\n",
      " 4   FFMC         244 non-null    float64\n",
      " 5   DMC          244 non-null    float64\n",
      " 6   DC           244 non-null    float64\n",
      " 7   ISI          244 non-null    float64\n",
      " 8   BUI          244 non-null    float64\n",
      " 9   FWI          244 non-null    float64\n",
      " 10  Classes      243 non-null    object \n",
      " 11  Region       244 non-null    object \n",
      "dtypes: float64(8), int64(2), object(2)\n",
      "memory usage: 32.9+ KB\n"
     ]
    }
   ],
   "source": [
    "l.info()"
   ]
  },
  {
   "cell_type": "code",
   "execution_count": 15,
   "id": "2fb9ff5e",
   "metadata": {},
   "outputs": [
    {
     "name": "stdout",
     "output_type": "stream",
     "text": [
      "Categorical columns -- ['Classes', 'Region']\n"
     ]
    }
   ],
   "source": [
    "#seperate categorical and numerical features\n",
    "categorical_col = [fea for fea in l.columns if l[fea].dtype =='O']\n",
    "print(\"Categorical columns --\",categorical_col)\n"
   ]
  },
  {
   "cell_type": "code",
   "execution_count": 16,
   "id": "e2ab7897",
   "metadata": {},
   "outputs": [
    {
     "name": "stdout",
     "output_type": "stream",
     "text": [
      "Numerical columns -- ['Temperature', 'RH', 'Ws', 'Rain', 'FFMC', 'DMC', 'DC', 'ISI', 'BUI', 'FWI']\n"
     ]
    }
   ],
   "source": [
    "numerical_col = [fea for fea in l.columns if l[fea].dtype !='O']\n",
    "print(\"Numerical columns --\",numerical_col)"
   ]
  },
  {
   "cell_type": "code",
   "execution_count": 17,
   "id": "5210ced2",
   "metadata": {},
   "outputs": [
    {
     "data": {
      "text/html": [
       "<div>\n",
       "<style scoped>\n",
       "    .dataframe tbody tr th:only-of-type {\n",
       "        vertical-align: middle;\n",
       "    }\n",
       "\n",
       "    .dataframe tbody tr th {\n",
       "        vertical-align: top;\n",
       "    }\n",
       "\n",
       "    .dataframe thead th {\n",
       "        text-align: right;\n",
       "    }\n",
       "</style>\n",
       "<table border=\"1\" class=\"dataframe\">\n",
       "  <thead>\n",
       "    <tr style=\"text-align: right;\">\n",
       "      <th></th>\n",
       "      <th>count</th>\n",
       "      <th>mean</th>\n",
       "      <th>std</th>\n",
       "      <th>min</th>\n",
       "      <th>25%</th>\n",
       "      <th>50%</th>\n",
       "      <th>75%</th>\n",
       "      <th>max</th>\n",
       "    </tr>\n",
       "  </thead>\n",
       "  <tbody>\n",
       "    <tr>\n",
       "      <th>Temperature</th>\n",
       "      <td>244.0</td>\n",
       "      <td>32.172131</td>\n",
       "      <td>3.633843</td>\n",
       "      <td>22.0</td>\n",
       "      <td>30.000</td>\n",
       "      <td>32.00</td>\n",
       "      <td>35.000</td>\n",
       "      <td>42.0</td>\n",
       "    </tr>\n",
       "    <tr>\n",
       "      <th>RH</th>\n",
       "      <td>244.0</td>\n",
       "      <td>61.938525</td>\n",
       "      <td>14.884200</td>\n",
       "      <td>21.0</td>\n",
       "      <td>52.000</td>\n",
       "      <td>63.00</td>\n",
       "      <td>73.250</td>\n",
       "      <td>90.0</td>\n",
       "    </tr>\n",
       "    <tr>\n",
       "      <th>Ws</th>\n",
       "      <td>244.0</td>\n",
       "      <td>15.504098</td>\n",
       "      <td>2.810178</td>\n",
       "      <td>6.0</td>\n",
       "      <td>14.000</td>\n",
       "      <td>15.00</td>\n",
       "      <td>17.000</td>\n",
       "      <td>29.0</td>\n",
       "    </tr>\n",
       "    <tr>\n",
       "      <th>Rain</th>\n",
       "      <td>244.0</td>\n",
       "      <td>0.760656</td>\n",
       "      <td>1.999406</td>\n",
       "      <td>0.0</td>\n",
       "      <td>0.000</td>\n",
       "      <td>0.00</td>\n",
       "      <td>0.500</td>\n",
       "      <td>16.8</td>\n",
       "    </tr>\n",
       "    <tr>\n",
       "      <th>FFMC</th>\n",
       "      <td>244.0</td>\n",
       "      <td>77.887705</td>\n",
       "      <td>14.337571</td>\n",
       "      <td>28.6</td>\n",
       "      <td>72.075</td>\n",
       "      <td>83.50</td>\n",
       "      <td>88.300</td>\n",
       "      <td>96.0</td>\n",
       "    </tr>\n",
       "    <tr>\n",
       "      <th>DMC</th>\n",
       "      <td>244.0</td>\n",
       "      <td>14.673361</td>\n",
       "      <td>12.368039</td>\n",
       "      <td>0.7</td>\n",
       "      <td>5.800</td>\n",
       "      <td>11.30</td>\n",
       "      <td>20.750</td>\n",
       "      <td>65.9</td>\n",
       "    </tr>\n",
       "    <tr>\n",
       "      <th>DC</th>\n",
       "      <td>244.0</td>\n",
       "      <td>49.288115</td>\n",
       "      <td>47.619662</td>\n",
       "      <td>6.9</td>\n",
       "      <td>13.275</td>\n",
       "      <td>33.10</td>\n",
       "      <td>68.150</td>\n",
       "      <td>220.4</td>\n",
       "    </tr>\n",
       "    <tr>\n",
       "      <th>ISI</th>\n",
       "      <td>244.0</td>\n",
       "      <td>4.774180</td>\n",
       "      <td>4.175318</td>\n",
       "      <td>0.0</td>\n",
       "      <td>1.400</td>\n",
       "      <td>3.50</td>\n",
       "      <td>7.300</td>\n",
       "      <td>19.0</td>\n",
       "    </tr>\n",
       "    <tr>\n",
       "      <th>BUI</th>\n",
       "      <td>244.0</td>\n",
       "      <td>16.664754</td>\n",
       "      <td>14.204824</td>\n",
       "      <td>1.1</td>\n",
       "      <td>6.000</td>\n",
       "      <td>12.25</td>\n",
       "      <td>22.525</td>\n",
       "      <td>68.0</td>\n",
       "    </tr>\n",
       "    <tr>\n",
       "      <th>FWI</th>\n",
       "      <td>244.0</td>\n",
       "      <td>7.006557</td>\n",
       "      <td>7.438889</td>\n",
       "      <td>0.0</td>\n",
       "      <td>0.700</td>\n",
       "      <td>4.20</td>\n",
       "      <td>11.375</td>\n",
       "      <td>31.1</td>\n",
       "    </tr>\n",
       "  </tbody>\n",
       "</table>\n",
       "</div>"
      ],
      "text/plain": [
       "             count       mean        std   min     25%    50%     75%    max\n",
       "Temperature  244.0  32.172131   3.633843  22.0  30.000  32.00  35.000   42.0\n",
       "RH           244.0  61.938525  14.884200  21.0  52.000  63.00  73.250   90.0\n",
       "Ws           244.0  15.504098   2.810178   6.0  14.000  15.00  17.000   29.0\n",
       "Rain         244.0   0.760656   1.999406   0.0   0.000   0.00   0.500   16.8\n",
       "FFMC         244.0  77.887705  14.337571  28.6  72.075  83.50  88.300   96.0\n",
       "DMC          244.0  14.673361  12.368039   0.7   5.800  11.30  20.750   65.9\n",
       "DC           244.0  49.288115  47.619662   6.9  13.275  33.10  68.150  220.4\n",
       "ISI          244.0   4.774180   4.175318   0.0   1.400   3.50   7.300   19.0\n",
       "BUI          244.0  16.664754  14.204824   1.1   6.000  12.25  22.525   68.0\n",
       "FWI          244.0   7.006557   7.438889   0.0   0.700   4.20  11.375   31.1"
      ]
     },
     "execution_count": 17,
     "metadata": {},
     "output_type": "execute_result"
    }
   ],
   "source": [
    "l.describe().T"
   ]
  },
  {
   "cell_type": "markdown",
   "id": "eb0d77c6",
   "metadata": {},
   "source": [
    "# EDA"
   ]
  },
  {
   "cell_type": "code",
   "execution_count": 19,
   "id": "1faafc6e",
   "metadata": {},
   "outputs": [],
   "source": [
    "#Here to perform EDA we have stored the data of the original 'l' variable into a new variable named \"eda\" \n",
    "#which will only be used for the purpose of exploratory data analysis.\n",
    "eda = l[['Temperature','RH','Ws','Rain','FFMC','DMC','DC','ISI','BUI','FWI','Classes','Region']]"
   ]
  },
  {
   "cell_type": "code",
   "execution_count": 20,
   "id": "9b003014",
   "metadata": {
    "scrolled": true
   },
   "outputs": [
    {
     "data": {
      "text/html": [
       "<div>\n",
       "<style scoped>\n",
       "    .dataframe tbody tr th:only-of-type {\n",
       "        vertical-align: middle;\n",
       "    }\n",
       "\n",
       "    .dataframe tbody tr th {\n",
       "        vertical-align: top;\n",
       "    }\n",
       "\n",
       "    .dataframe thead th {\n",
       "        text-align: right;\n",
       "    }\n",
       "</style>\n",
       "<table border=\"1\" class=\"dataframe\">\n",
       "  <thead>\n",
       "    <tr style=\"text-align: right;\">\n",
       "      <th></th>\n",
       "      <th>Temperature</th>\n",
       "      <th>RH</th>\n",
       "      <th>Ws</th>\n",
       "      <th>Rain</th>\n",
       "      <th>FFMC</th>\n",
       "      <th>DMC</th>\n",
       "      <th>DC</th>\n",
       "      <th>ISI</th>\n",
       "      <th>BUI</th>\n",
       "      <th>FWI</th>\n",
       "      <th>Classes</th>\n",
       "      <th>Region</th>\n",
       "    </tr>\n",
       "  </thead>\n",
       "  <tbody>\n",
       "    <tr>\n",
       "      <th>0</th>\n",
       "      <td>29.0</td>\n",
       "      <td>57</td>\n",
       "      <td>18</td>\n",
       "      <td>0.0</td>\n",
       "      <td>65.7</td>\n",
       "      <td>3.4</td>\n",
       "      <td>7.6</td>\n",
       "      <td>1.3</td>\n",
       "      <td>3.4</td>\n",
       "      <td>0.5</td>\n",
       "      <td>not fire</td>\n",
       "      <td>Bejaia</td>\n",
       "    </tr>\n",
       "    <tr>\n",
       "      <th>1</th>\n",
       "      <td>29.0</td>\n",
       "      <td>61</td>\n",
       "      <td>13</td>\n",
       "      <td>1.3</td>\n",
       "      <td>64.4</td>\n",
       "      <td>4.1</td>\n",
       "      <td>7.6</td>\n",
       "      <td>1.0</td>\n",
       "      <td>3.9</td>\n",
       "      <td>0.4</td>\n",
       "      <td>not fire</td>\n",
       "      <td>Bejaia</td>\n",
       "    </tr>\n",
       "    <tr>\n",
       "      <th>2</th>\n",
       "      <td>26.0</td>\n",
       "      <td>82</td>\n",
       "      <td>22</td>\n",
       "      <td>13.1</td>\n",
       "      <td>47.1</td>\n",
       "      <td>2.5</td>\n",
       "      <td>7.1</td>\n",
       "      <td>0.3</td>\n",
       "      <td>2.7</td>\n",
       "      <td>0.1</td>\n",
       "      <td>not fire</td>\n",
       "      <td>Bejaia</td>\n",
       "    </tr>\n",
       "    <tr>\n",
       "      <th>3</th>\n",
       "      <td>25.0</td>\n",
       "      <td>89</td>\n",
       "      <td>13</td>\n",
       "      <td>2.5</td>\n",
       "      <td>28.6</td>\n",
       "      <td>1.3</td>\n",
       "      <td>6.9</td>\n",
       "      <td>0.0</td>\n",
       "      <td>1.7</td>\n",
       "      <td>0.0</td>\n",
       "      <td>not fire</td>\n",
       "      <td>Bejaia</td>\n",
       "    </tr>\n",
       "    <tr>\n",
       "      <th>4</th>\n",
       "      <td>27.0</td>\n",
       "      <td>77</td>\n",
       "      <td>16</td>\n",
       "      <td>0.0</td>\n",
       "      <td>64.8</td>\n",
       "      <td>3.0</td>\n",
       "      <td>14.2</td>\n",
       "      <td>1.2</td>\n",
       "      <td>3.9</td>\n",
       "      <td>0.5</td>\n",
       "      <td>not fire</td>\n",
       "      <td>Bejaia</td>\n",
       "    </tr>\n",
       "    <tr>\n",
       "      <th>...</th>\n",
       "      <td>...</td>\n",
       "      <td>...</td>\n",
       "      <td>...</td>\n",
       "      <td>...</td>\n",
       "      <td>...</td>\n",
       "      <td>...</td>\n",
       "      <td>...</td>\n",
       "      <td>...</td>\n",
       "      <td>...</td>\n",
       "      <td>...</td>\n",
       "      <td>...</td>\n",
       "      <td>...</td>\n",
       "    </tr>\n",
       "    <tr>\n",
       "      <th>241</th>\n",
       "      <td>30.0</td>\n",
       "      <td>65</td>\n",
       "      <td>14</td>\n",
       "      <td>0.0</td>\n",
       "      <td>85.4</td>\n",
       "      <td>16.0</td>\n",
       "      <td>44.5</td>\n",
       "      <td>4.5</td>\n",
       "      <td>16.9</td>\n",
       "      <td>6.5</td>\n",
       "      <td>fire</td>\n",
       "      <td>Sidi Bel Abbes</td>\n",
       "    </tr>\n",
       "    <tr>\n",
       "      <th>242</th>\n",
       "      <td>28.0</td>\n",
       "      <td>87</td>\n",
       "      <td>15</td>\n",
       "      <td>4.4</td>\n",
       "      <td>41.1</td>\n",
       "      <td>6.5</td>\n",
       "      <td>8.0</td>\n",
       "      <td>0.1</td>\n",
       "      <td>6.2</td>\n",
       "      <td>0.0</td>\n",
       "      <td>not fire</td>\n",
       "      <td>Sidi Bel Abbes</td>\n",
       "    </tr>\n",
       "    <tr>\n",
       "      <th>243</th>\n",
       "      <td>27.0</td>\n",
       "      <td>87</td>\n",
       "      <td>29</td>\n",
       "      <td>0.5</td>\n",
       "      <td>45.9</td>\n",
       "      <td>3.5</td>\n",
       "      <td>7.9</td>\n",
       "      <td>0.4</td>\n",
       "      <td>3.4</td>\n",
       "      <td>0.2</td>\n",
       "      <td>not fire</td>\n",
       "      <td>Sidi Bel Abbes</td>\n",
       "    </tr>\n",
       "    <tr>\n",
       "      <th>244</th>\n",
       "      <td>24.0</td>\n",
       "      <td>54</td>\n",
       "      <td>18</td>\n",
       "      <td>0.1</td>\n",
       "      <td>79.7</td>\n",
       "      <td>4.3</td>\n",
       "      <td>15.2</td>\n",
       "      <td>1.7</td>\n",
       "      <td>5.1</td>\n",
       "      <td>0.7</td>\n",
       "      <td>not fire</td>\n",
       "      <td>Sidi Bel Abbes</td>\n",
       "    </tr>\n",
       "    <tr>\n",
       "      <th>245</th>\n",
       "      <td>24.0</td>\n",
       "      <td>64</td>\n",
       "      <td>15</td>\n",
       "      <td>0.2</td>\n",
       "      <td>67.3</td>\n",
       "      <td>3.8</td>\n",
       "      <td>16.5</td>\n",
       "      <td>1.2</td>\n",
       "      <td>4.8</td>\n",
       "      <td>0.5</td>\n",
       "      <td>not fire</td>\n",
       "      <td>Sidi Bel Abbes</td>\n",
       "    </tr>\n",
       "  </tbody>\n",
       "</table>\n",
       "<p>244 rows × 12 columns</p>\n",
       "</div>"
      ],
      "text/plain": [
       "     Temperature  RH  Ws  Rain  FFMC   DMC    DC  ISI   BUI  FWI  \\\n",
       "0           29.0  57  18   0.0  65.7   3.4   7.6  1.3   3.4  0.5   \n",
       "1           29.0  61  13   1.3  64.4   4.1   7.6  1.0   3.9  0.4   \n",
       "2           26.0  82  22  13.1  47.1   2.5   7.1  0.3   2.7  0.1   \n",
       "3           25.0  89  13   2.5  28.6   1.3   6.9  0.0   1.7  0.0   \n",
       "4           27.0  77  16   0.0  64.8   3.0  14.2  1.2   3.9  0.5   \n",
       "..           ...  ..  ..   ...   ...   ...   ...  ...   ...  ...   \n",
       "241         30.0  65  14   0.0  85.4  16.0  44.5  4.5  16.9  6.5   \n",
       "242         28.0  87  15   4.4  41.1   6.5   8.0  0.1   6.2  0.0   \n",
       "243         27.0  87  29   0.5  45.9   3.5   7.9  0.4   3.4  0.2   \n",
       "244         24.0  54  18   0.1  79.7   4.3  15.2  1.7   5.1  0.7   \n",
       "245         24.0  64  15   0.2  67.3   3.8  16.5  1.2   4.8  0.5   \n",
       "\n",
       "          Classes          Region  \n",
       "0     not fire             Bejaia  \n",
       "1     not fire             Bejaia  \n",
       "2     not fire             Bejaia  \n",
       "3     not fire             Bejaia  \n",
       "4     not fire             Bejaia  \n",
       "..            ...             ...  \n",
       "241       fire     Sidi Bel Abbes  \n",
       "242   not fire     Sidi Bel Abbes  \n",
       "243   not fire     Sidi Bel Abbes  \n",
       "244   not fire     Sidi Bel Abbes  \n",
       "245  not fire      Sidi Bel Abbes  \n",
       "\n",
       "[244 rows x 12 columns]"
      ]
     },
     "execution_count": 20,
     "metadata": {},
     "output_type": "execute_result"
    }
   ],
   "source": [
    "eda"
   ]
  },
  {
   "cell_type": "markdown",
   "id": "92107b91",
   "metadata": {},
   "source": [
    "# Here we have replaced the missing value of our Classes variable with the mode value.\n",
    "# Remember this is only done for EDA purpose as the main replacement for the model happens only after train test split."
   ]
  },
  {
   "cell_type": "code",
   "execution_count": 23,
   "id": "c30be999",
   "metadata": {},
   "outputs": [
    {
     "data": {
      "text/html": [
       "<div>\n",
       "<style scoped>\n",
       "    .dataframe tbody tr th:only-of-type {\n",
       "        vertical-align: middle;\n",
       "    }\n",
       "\n",
       "    .dataframe tbody tr th {\n",
       "        vertical-align: top;\n",
       "    }\n",
       "\n",
       "    .dataframe thead th {\n",
       "        text-align: right;\n",
       "    }\n",
       "</style>\n",
       "<table border=\"1\" class=\"dataframe\">\n",
       "  <thead>\n",
       "    <tr style=\"text-align: right;\">\n",
       "      <th></th>\n",
       "      <th>Temperature</th>\n",
       "      <th>RH</th>\n",
       "      <th>Ws</th>\n",
       "      <th>Rain</th>\n",
       "      <th>FFMC</th>\n",
       "      <th>DMC</th>\n",
       "      <th>DC</th>\n",
       "      <th>ISI</th>\n",
       "      <th>BUI</th>\n",
       "      <th>FWI</th>\n",
       "      <th>Classes</th>\n",
       "      <th>Region</th>\n",
       "    </tr>\n",
       "  </thead>\n",
       "  <tbody>\n",
       "    <tr>\n",
       "      <th>0</th>\n",
       "      <td>29.0</td>\n",
       "      <td>57</td>\n",
       "      <td>18</td>\n",
       "      <td>0.0</td>\n",
       "      <td>65.7</td>\n",
       "      <td>3.4</td>\n",
       "      <td>7.6</td>\n",
       "      <td>1.3</td>\n",
       "      <td>3.4</td>\n",
       "      <td>0.5</td>\n",
       "      <td>not fire</td>\n",
       "      <td>Bejaia</td>\n",
       "    </tr>\n",
       "    <tr>\n",
       "      <th>1</th>\n",
       "      <td>29.0</td>\n",
       "      <td>61</td>\n",
       "      <td>13</td>\n",
       "      <td>1.3</td>\n",
       "      <td>64.4</td>\n",
       "      <td>4.1</td>\n",
       "      <td>7.6</td>\n",
       "      <td>1.0</td>\n",
       "      <td>3.9</td>\n",
       "      <td>0.4</td>\n",
       "      <td>not fire</td>\n",
       "      <td>Bejaia</td>\n",
       "    </tr>\n",
       "    <tr>\n",
       "      <th>2</th>\n",
       "      <td>26.0</td>\n",
       "      <td>82</td>\n",
       "      <td>22</td>\n",
       "      <td>13.1</td>\n",
       "      <td>47.1</td>\n",
       "      <td>2.5</td>\n",
       "      <td>7.1</td>\n",
       "      <td>0.3</td>\n",
       "      <td>2.7</td>\n",
       "      <td>0.1</td>\n",
       "      <td>not fire</td>\n",
       "      <td>Bejaia</td>\n",
       "    </tr>\n",
       "    <tr>\n",
       "      <th>3</th>\n",
       "      <td>25.0</td>\n",
       "      <td>89</td>\n",
       "      <td>13</td>\n",
       "      <td>2.5</td>\n",
       "      <td>28.6</td>\n",
       "      <td>1.3</td>\n",
       "      <td>6.9</td>\n",
       "      <td>0.0</td>\n",
       "      <td>1.7</td>\n",
       "      <td>0.0</td>\n",
       "      <td>not fire</td>\n",
       "      <td>Bejaia</td>\n",
       "    </tr>\n",
       "    <tr>\n",
       "      <th>4</th>\n",
       "      <td>27.0</td>\n",
       "      <td>77</td>\n",
       "      <td>16</td>\n",
       "      <td>0.0</td>\n",
       "      <td>64.8</td>\n",
       "      <td>3.0</td>\n",
       "      <td>14.2</td>\n",
       "      <td>1.2</td>\n",
       "      <td>3.9</td>\n",
       "      <td>0.5</td>\n",
       "      <td>not fire</td>\n",
       "      <td>Bejaia</td>\n",
       "    </tr>\n",
       "    <tr>\n",
       "      <th>...</th>\n",
       "      <td>...</td>\n",
       "      <td>...</td>\n",
       "      <td>...</td>\n",
       "      <td>...</td>\n",
       "      <td>...</td>\n",
       "      <td>...</td>\n",
       "      <td>...</td>\n",
       "      <td>...</td>\n",
       "      <td>...</td>\n",
       "      <td>...</td>\n",
       "      <td>...</td>\n",
       "      <td>...</td>\n",
       "    </tr>\n",
       "    <tr>\n",
       "      <th>241</th>\n",
       "      <td>30.0</td>\n",
       "      <td>65</td>\n",
       "      <td>14</td>\n",
       "      <td>0.0</td>\n",
       "      <td>85.4</td>\n",
       "      <td>16.0</td>\n",
       "      <td>44.5</td>\n",
       "      <td>4.5</td>\n",
       "      <td>16.9</td>\n",
       "      <td>6.5</td>\n",
       "      <td>fire</td>\n",
       "      <td>Sidi Bel Abbes</td>\n",
       "    </tr>\n",
       "    <tr>\n",
       "      <th>242</th>\n",
       "      <td>28.0</td>\n",
       "      <td>87</td>\n",
       "      <td>15</td>\n",
       "      <td>4.4</td>\n",
       "      <td>41.1</td>\n",
       "      <td>6.5</td>\n",
       "      <td>8.0</td>\n",
       "      <td>0.1</td>\n",
       "      <td>6.2</td>\n",
       "      <td>0.0</td>\n",
       "      <td>not fire</td>\n",
       "      <td>Sidi Bel Abbes</td>\n",
       "    </tr>\n",
       "    <tr>\n",
       "      <th>243</th>\n",
       "      <td>27.0</td>\n",
       "      <td>87</td>\n",
       "      <td>29</td>\n",
       "      <td>0.5</td>\n",
       "      <td>45.9</td>\n",
       "      <td>3.5</td>\n",
       "      <td>7.9</td>\n",
       "      <td>0.4</td>\n",
       "      <td>3.4</td>\n",
       "      <td>0.2</td>\n",
       "      <td>not fire</td>\n",
       "      <td>Sidi Bel Abbes</td>\n",
       "    </tr>\n",
       "    <tr>\n",
       "      <th>244</th>\n",
       "      <td>24.0</td>\n",
       "      <td>54</td>\n",
       "      <td>18</td>\n",
       "      <td>0.1</td>\n",
       "      <td>79.7</td>\n",
       "      <td>4.3</td>\n",
       "      <td>15.2</td>\n",
       "      <td>1.7</td>\n",
       "      <td>5.1</td>\n",
       "      <td>0.7</td>\n",
       "      <td>not fire</td>\n",
       "      <td>Sidi Bel Abbes</td>\n",
       "    </tr>\n",
       "    <tr>\n",
       "      <th>245</th>\n",
       "      <td>24.0</td>\n",
       "      <td>64</td>\n",
       "      <td>15</td>\n",
       "      <td>0.2</td>\n",
       "      <td>67.3</td>\n",
       "      <td>3.8</td>\n",
       "      <td>16.5</td>\n",
       "      <td>1.2</td>\n",
       "      <td>4.8</td>\n",
       "      <td>0.5</td>\n",
       "      <td>not fire</td>\n",
       "      <td>Sidi Bel Abbes</td>\n",
       "    </tr>\n",
       "  </tbody>\n",
       "</table>\n",
       "<p>244 rows × 12 columns</p>\n",
       "</div>"
      ],
      "text/plain": [
       "     Temperature  RH  Ws  Rain  FFMC   DMC    DC  ISI   BUI  FWI  \\\n",
       "0           29.0  57  18   0.0  65.7   3.4   7.6  1.3   3.4  0.5   \n",
       "1           29.0  61  13   1.3  64.4   4.1   7.6  1.0   3.9  0.4   \n",
       "2           26.0  82  22  13.1  47.1   2.5   7.1  0.3   2.7  0.1   \n",
       "3           25.0  89  13   2.5  28.6   1.3   6.9  0.0   1.7  0.0   \n",
       "4           27.0  77  16   0.0  64.8   3.0  14.2  1.2   3.9  0.5   \n",
       "..           ...  ..  ..   ...   ...   ...   ...  ...   ...  ...   \n",
       "241         30.0  65  14   0.0  85.4  16.0  44.5  4.5  16.9  6.5   \n",
       "242         28.0  87  15   4.4  41.1   6.5   8.0  0.1   6.2  0.0   \n",
       "243         27.0  87  29   0.5  45.9   3.5   7.9  0.4   3.4  0.2   \n",
       "244         24.0  54  18   0.1  79.7   4.3  15.2  1.7   5.1  0.7   \n",
       "245         24.0  64  15   0.2  67.3   3.8  16.5  1.2   4.8  0.5   \n",
       "\n",
       "          Classes          Region  \n",
       "0     not fire             Bejaia  \n",
       "1     not fire             Bejaia  \n",
       "2     not fire             Bejaia  \n",
       "3     not fire             Bejaia  \n",
       "4     not fire             Bejaia  \n",
       "..            ...             ...  \n",
       "241       fire     Sidi Bel Abbes  \n",
       "242   not fire     Sidi Bel Abbes  \n",
       "243   not fire     Sidi Bel Abbes  \n",
       "244   not fire     Sidi Bel Abbes  \n",
       "245  not fire      Sidi Bel Abbes  \n",
       "\n",
       "[244 rows x 12 columns]"
      ]
     },
     "execution_count": 23,
     "metadata": {},
     "output_type": "execute_result"
    }
   ],
   "source": [
    "val= eda['Classes'].mode()\n",
    "eda['Classes'].fillna(value=val[0],inplace = True)\n",
    "eda"
   ]
  },
  {
   "cell_type": "code",
   "execution_count": 24,
   "id": "c4b95cee",
   "metadata": {},
   "outputs": [
    {
     "data": {
      "text/plain": [
       "Temperature    0\n",
       "RH             0\n",
       "Ws             0\n",
       "Rain           0\n",
       "FFMC           0\n",
       "DMC            0\n",
       "DC             0\n",
       "ISI            0\n",
       "BUI            0\n",
       "FWI            0\n",
       "Classes        0\n",
       "Region         0\n",
       "dtype: int64"
      ]
     },
     "execution_count": 24,
     "metadata": {},
     "output_type": "execute_result"
    }
   ],
   "source": [
    "# as can be seen classes column has no null values\n",
    "eda.isnull().sum()"
   ]
  },
  {
   "cell_type": "code",
   "execution_count": 25,
   "id": "8b8bd6cc",
   "metadata": {},
   "outputs": [
    {
     "data": {
      "text/plain": [
       "array(['not fire   ', 'fire   ', 'fire', 'fire ', 'not fire', 'not fire ',\n",
       "       'not fire     ', 'not fire    '], dtype=object)"
      ]
     },
     "execution_count": 25,
     "metadata": {},
     "output_type": "execute_result"
    }
   ],
   "source": [
    "eda['Classes'].unique()"
   ]
  },
  {
   "cell_type": "code",
   "execution_count": 26,
   "id": "d6b95712",
   "metadata": {},
   "outputs": [],
   "source": [
    "# now removing the spaces in the columns of 'fire' and 'not fire' variables \n",
    "eda['Classes'] = eda['Classes'].map(lambda x: x.strip())"
   ]
  },
  {
   "cell_type": "code",
   "execution_count": 27,
   "id": "9f01b20b",
   "metadata": {},
   "outputs": [
    {
     "data": {
      "text/plain": [
       "fire        138\n",
       "not fire    106\n",
       "Name: Classes, dtype: int64"
      ]
     },
     "execution_count": 27,
     "metadata": {},
     "output_type": "execute_result"
    }
   ],
   "source": [
    "eda['Classes'].value_counts()"
   ]
  },
  {
   "cell_type": "markdown",
   "id": "456c1ef0",
   "metadata": {},
   "source": [
    "# UNIVARIATE ANALYSIS"
   ]
  },
  {
   "cell_type": "code",
   "execution_count": 33,
   "id": "11afee4f",
   "metadata": {},
   "outputs": [
    {
     "data": {
      "image/png": "[encoded data removed]",
      "text/plain": [
       "<Figure size 1080x1440 with 10 Axes>"
      ]
     },
     "metadata": {},
     "output_type": "display_data"
    }
   ],
   "source": [
    "plt.figure(figsize=(15,20), facecolor='white')\n",
    "plt.suptitle('Univariate Analysis of Numerical Features',fontsize=15,fontweight='bold')\n",
    "for i in range(0, len(numerical_col)):\n",
    "    plt.subplot(5, 3, i+1)\n",
    "    sns.kdeplot(x=eda[numerical_col[i]],shade=True, color='b',hue='Region',data=eda) \n",
    "    plt.xlabel(numerical_col[i])\n",
    "    plt.tight_layout()"
   ]
  },
  {
   "cell_type": "markdown",
   "id": "59b1d74b",
   "metadata": {},
   "source": [
    "# BI - VARIATE ANALYSIS"
   ]
  },
  {
   "cell_type": "code",
   "execution_count": 29,
   "id": "c81798f6",
   "metadata": {
    "scrolled": true
   },
   "outputs": [
    {
     "data": {
      "image/png": "[encoded data removed]",
      "text/plain": [
       "<Figure size 1080x1440 with 10 Axes>"
      ]
     },
     "metadata": {
      "needs_background": "light"
     },
     "output_type": "display_data"
    }
   ],
   "source": [
    "plt.figure(figsize=(15,20))\n",
    "plt.suptitle('Bar Plot', fontsize=20, fontweight='bold', alpha=1, y=1)\n",
    "for i in range(0, len(numerical_col)):\n",
    "    plt.subplot(5, 3, i+1) \n",
    "    sns.barplot(y=numerical_col [i], x='Classes', data = eda) \n",
    "    plt.tight_layout()"
   ]
  },
  {
   "cell_type": "markdown",
   "id": "f07a15b6",
   "metadata": {},
   "source": [
    "# OUTLIER PLOTTING"
   ]
  },
  {
   "cell_type": "code",
   "execution_count": 34,
   "id": "c06386e7",
   "metadata": {},
   "outputs": [
    {
     "data": {
      "text/plain": [
       "<AxesSubplot:xlabel='Rain'>"
      ]
     },
     "execution_count": 34,
     "metadata": {},
     "output_type": "execute_result"
    },
    {
     "data": {
      "image/png": "[encoded data removed]",
      "text/plain": [
       "<Figure size 432x288 with 1 Axes>"
      ]
     },
     "metadata": {
      "needs_background": "light"
     },
     "output_type": "display_data"
    }
   ],
   "source": [
    "# Rain as an independent variable showcases a huge number of outliers on the right side.\n",
    "sns.boxplot(x='Rain',data= eda,showmeans=True)"
   ]
  },
  {
   "cell_type": "code",
   "execution_count": 35,
   "id": "6290106f",
   "metadata": {},
   "outputs": [
    {
     "data": {
      "text/plain": [
       "<AxesSubplot:xlabel='FFMC'>"
      ]
     },
     "execution_count": 35,
     "metadata": {},
     "output_type": "execute_result"
    },
    {
     "data": {
      "image/png": "[encoded data removed]",
      "text/plain": [
       "<Figure size 432x288 with 1 Axes>"
      ]
     },
     "metadata": {
      "needs_background": "light"
     },
     "output_type": "display_data"
    }
   ],
   "source": [
    "#FFMC is a numerical rating of the moisture content of litter and cured fine fuels. \n",
    "#It shows presence of outliers on the left side. \n",
    "sns.boxplot(x='FFMC',data= eda,showmeans=True)"
   ]
  },
  {
   "cell_type": "code",
   "execution_count": 36,
   "id": "02237659",
   "metadata": {},
   "outputs": [
    {
     "data": {
      "text/plain": [
       "<AxesSubplot:xlabel='BUI'>"
      ]
     },
     "execution_count": 36,
     "metadata": {},
     "output_type": "execute_result"
    },
    {
     "data": {
      "image/png": "[encoded data removed]",
      "text/plain": [
       "<Figure size 432x288 with 1 Axes>"
      ]
     },
     "metadata": {
      "needs_background": "light"
     },
     "output_type": "display_data"
    }
   ],
   "source": [
    "#The Build Up Index (BUI) which is a numeric rating of the total amount of fuel available for combustion.\n",
    "#It shows presence of ouliers on the right hand side.\n",
    "sns.boxplot(x='BUI',data= eda,showmeans=True)"
   ]
  },
  {
   "cell_type": "code",
   "execution_count": null,
   "id": "20055934",
   "metadata": {},
   "outputs": [],
   "source": [
    "is outliers removal done for training data or both for training and testing data?\n",
    "can test accuracy score be > then train?"
   ]
  },
  {
   "cell_type": "markdown",
   "id": "66929911",
   "metadata": {},
   "source": [
    "# Train Test Split"
   ]
  },
  {
   "cell_type": "markdown",
   "id": "d81507a2",
   "metadata": {},
   "source": [
    "# Here for the train test split we take the orginal variables stored in 'l'"
   ]
  },
  {
   "cell_type": "code",
   "execution_count": 37,
   "id": "bbff0c8d",
   "metadata": {},
   "outputs": [],
   "source": [
    "from sklearn.model_selection import train_test_split"
   ]
  },
  {
   "cell_type": "code",
   "execution_count": 38,
   "id": "15d9cc75",
   "metadata": {
    "scrolled": true
   },
   "outputs": [
    {
     "data": {
      "text/html": [
       "<div>\n",
       "<style scoped>\n",
       "    .dataframe tbody tr th:only-of-type {\n",
       "        vertical-align: middle;\n",
       "    }\n",
       "\n",
       "    .dataframe tbody tr th {\n",
       "        vertical-align: top;\n",
       "    }\n",
       "\n",
       "    .dataframe thead th {\n",
       "        text-align: right;\n",
       "    }\n",
       "</style>\n",
       "<table border=\"1\" class=\"dataframe\">\n",
       "  <thead>\n",
       "    <tr style=\"text-align: right;\">\n",
       "      <th></th>\n",
       "      <th>Temperature</th>\n",
       "      <th>RH</th>\n",
       "      <th>Ws</th>\n",
       "      <th>Rain</th>\n",
       "      <th>FFMC</th>\n",
       "      <th>DMC</th>\n",
       "      <th>DC</th>\n",
       "      <th>ISI</th>\n",
       "      <th>BUI</th>\n",
       "      <th>FWI</th>\n",
       "      <th>Classes</th>\n",
       "      <th>Region</th>\n",
       "    </tr>\n",
       "  </thead>\n",
       "  <tbody>\n",
       "    <tr>\n",
       "      <th>114</th>\n",
       "      <td>32.0</td>\n",
       "      <td>54</td>\n",
       "      <td>11</td>\n",
       "      <td>0.5</td>\n",
       "      <td>73.7</td>\n",
       "      <td>7.9</td>\n",
       "      <td>30.4</td>\n",
       "      <td>1.2</td>\n",
       "      <td>9.6</td>\n",
       "      <td>0.7</td>\n",
       "      <td>not fire</td>\n",
       "      <td>Bejaia</td>\n",
       "    </tr>\n",
       "    <tr>\n",
       "      <th>65</th>\n",
       "      <td>34.0</td>\n",
       "      <td>65</td>\n",
       "      <td>13</td>\n",
       "      <td>0.0</td>\n",
       "      <td>86.8</td>\n",
       "      <td>11.1</td>\n",
       "      <td>29.7</td>\n",
       "      <td>5.2</td>\n",
       "      <td>11.5</td>\n",
       "      <td>6.1</td>\n",
       "      <td>fire</td>\n",
       "      <td>Bejaia</td>\n",
       "    </tr>\n",
       "    <tr>\n",
       "      <th>134</th>\n",
       "      <td>31.0</td>\n",
       "      <td>42</td>\n",
       "      <td>21</td>\n",
       "      <td>0.0</td>\n",
       "      <td>90.6</td>\n",
       "      <td>18.2</td>\n",
       "      <td>30.5</td>\n",
       "      <td>13.4</td>\n",
       "      <td>18.0</td>\n",
       "      <td>16.7</td>\n",
       "      <td>fire</td>\n",
       "      <td>Sidi Bel Abbes</td>\n",
       "    </tr>\n",
       "    <tr>\n",
       "      <th>209</th>\n",
       "      <td>34.0</td>\n",
       "      <td>40</td>\n",
       "      <td>18</td>\n",
       "      <td>0.0</td>\n",
       "      <td>92.1</td>\n",
       "      <td>56.3</td>\n",
       "      <td>157.5</td>\n",
       "      <td>14.3</td>\n",
       "      <td>59.5</td>\n",
       "      <td>31.1</td>\n",
       "      <td>fire</td>\n",
       "      <td>Sidi Bel Abbes</td>\n",
       "    </tr>\n",
       "    <tr>\n",
       "      <th>164</th>\n",
       "      <td>34.0</td>\n",
       "      <td>56</td>\n",
       "      <td>15</td>\n",
       "      <td>2.9</td>\n",
       "      <td>74.8</td>\n",
       "      <td>7.1</td>\n",
       "      <td>9.5</td>\n",
       "      <td>1.6</td>\n",
       "      <td>6.8</td>\n",
       "      <td>0.8</td>\n",
       "      <td>not fire</td>\n",
       "      <td>Sidi Bel Abbes</td>\n",
       "    </tr>\n",
       "    <tr>\n",
       "      <th>...</th>\n",
       "      <td>...</td>\n",
       "      <td>...</td>\n",
       "      <td>...</td>\n",
       "      <td>...</td>\n",
       "      <td>...</td>\n",
       "      <td>...</td>\n",
       "      <td>...</td>\n",
       "      <td>...</td>\n",
       "      <td>...</td>\n",
       "      <td>...</td>\n",
       "      <td>...</td>\n",
       "      <td>...</td>\n",
       "    </tr>\n",
       "    <tr>\n",
       "      <th>106</th>\n",
       "      <td>24.0</td>\n",
       "      <td>82</td>\n",
       "      <td>15</td>\n",
       "      <td>0.4</td>\n",
       "      <td>44.9</td>\n",
       "      <td>0.9</td>\n",
       "      <td>7.3</td>\n",
       "      <td>0.2</td>\n",
       "      <td>1.4</td>\n",
       "      <td>0.0</td>\n",
       "      <td>not fire</td>\n",
       "      <td>Bejaia</td>\n",
       "    </tr>\n",
       "    <tr>\n",
       "      <th>14</th>\n",
       "      <td>28.0</td>\n",
       "      <td>80</td>\n",
       "      <td>17</td>\n",
       "      <td>3.1</td>\n",
       "      <td>49.4</td>\n",
       "      <td>3.0</td>\n",
       "      <td>7.4</td>\n",
       "      <td>0.4</td>\n",
       "      <td>3.0</td>\n",
       "      <td>0.1</td>\n",
       "      <td>not fire</td>\n",
       "      <td>Bejaia</td>\n",
       "    </tr>\n",
       "    <tr>\n",
       "      <th>92</th>\n",
       "      <td>25.0</td>\n",
       "      <td>76</td>\n",
       "      <td>17</td>\n",
       "      <td>7.2</td>\n",
       "      <td>46.0</td>\n",
       "      <td>1.3</td>\n",
       "      <td>7.5</td>\n",
       "      <td>0.2</td>\n",
       "      <td>1.8</td>\n",
       "      <td>0.1</td>\n",
       "      <td>not fire</td>\n",
       "      <td>Bejaia</td>\n",
       "    </tr>\n",
       "    <tr>\n",
       "      <th>181</th>\n",
       "      <td>33.0</td>\n",
       "      <td>57</td>\n",
       "      <td>16</td>\n",
       "      <td>0.0</td>\n",
       "      <td>87.5</td>\n",
       "      <td>15.7</td>\n",
       "      <td>37.6</td>\n",
       "      <td>6.7</td>\n",
       "      <td>15.7</td>\n",
       "      <td>9.0</td>\n",
       "      <td>fire</td>\n",
       "      <td>Sidi Bel Abbes</td>\n",
       "    </tr>\n",
       "    <tr>\n",
       "      <th>102</th>\n",
       "      <td>30.0</td>\n",
       "      <td>77</td>\n",
       "      <td>21</td>\n",
       "      <td>1.8</td>\n",
       "      <td>58.5</td>\n",
       "      <td>1.9</td>\n",
       "      <td>8.4</td>\n",
       "      <td>1.1</td>\n",
       "      <td>2.4</td>\n",
       "      <td>0.3</td>\n",
       "      <td>not fire</td>\n",
       "      <td>Bejaia</td>\n",
       "    </tr>\n",
       "  </tbody>\n",
       "</table>\n",
       "<p>163 rows × 12 columns</p>\n",
       "</div>"
      ],
      "text/plain": [
       "     Temperature  RH  Ws  Rain  FFMC   DMC     DC   ISI   BUI   FWI  \\\n",
       "114         32.0  54  11   0.5  73.7   7.9   30.4   1.2   9.6   0.7   \n",
       "65          34.0  65  13   0.0  86.8  11.1   29.7   5.2  11.5   6.1   \n",
       "134         31.0  42  21   0.0  90.6  18.2   30.5  13.4  18.0  16.7   \n",
       "209         34.0  40  18   0.0  92.1  56.3  157.5  14.3  59.5  31.1   \n",
       "164         34.0  56  15   2.9  74.8   7.1    9.5   1.6   6.8   0.8   \n",
       "..           ...  ..  ..   ...   ...   ...    ...   ...   ...   ...   \n",
       "106         24.0  82  15   0.4  44.9   0.9    7.3   0.2   1.4   0.0   \n",
       "14          28.0  80  17   3.1  49.4   3.0    7.4   0.4   3.0   0.1   \n",
       "92          25.0  76  17   7.2  46.0   1.3    7.5   0.2   1.8   0.1   \n",
       "181         33.0  57  16   0.0  87.5  15.7   37.6   6.7  15.7   9.0   \n",
       "102         30.0  77  21   1.8  58.5   1.9    8.4   1.1   2.4   0.3   \n",
       "\n",
       "         Classes          Region  \n",
       "114  not fire             Bejaia  \n",
       "65       fire             Bejaia  \n",
       "134      fire     Sidi Bel Abbes  \n",
       "209      fire     Sidi Bel Abbes  \n",
       "164  not fire     Sidi Bel Abbes  \n",
       "..           ...             ...  \n",
       "106  not fire             Bejaia  \n",
       "14   not fire             Bejaia  \n",
       "92     not fire           Bejaia  \n",
       "181      fire     Sidi Bel Abbes  \n",
       "102  not fire             Bejaia  \n",
       "\n",
       "[163 rows x 12 columns]"
      ]
     },
     "execution_count": 38,
     "metadata": {},
     "output_type": "execute_result"
    }
   ],
   "source": [
    "train,test = train_test_split(l, test_size = 0.33, random_state=42)\n",
    "train"
   ]
  },
  {
   "cell_type": "code",
   "execution_count": 39,
   "id": "6225fea0",
   "metadata": {},
   "outputs": [
    {
     "data": {
      "text/plain": [
       "(163, 12)"
      ]
     },
     "execution_count": 39,
     "metadata": {},
     "output_type": "execute_result"
    }
   ],
   "source": [
    "train.shape"
   ]
  },
  {
   "cell_type": "code",
   "execution_count": 40,
   "id": "7c672538",
   "metadata": {},
   "outputs": [
    {
     "data": {
      "text/plain": [
       "(81, 12)"
      ]
     },
     "execution_count": 40,
     "metadata": {},
     "output_type": "execute_result"
    }
   ],
   "source": [
    "test.shape"
   ]
  },
  {
   "cell_type": "markdown",
   "id": "2382947f",
   "metadata": {},
   "source": [
    "# Imputation of missing value"
   ]
  },
  {
   "cell_type": "code",
   "execution_count": 41,
   "id": "9661a668",
   "metadata": {},
   "outputs": [
    {
     "data": {
      "text/plain": [
       "Temperature    0\n",
       "RH             0\n",
       "Ws             0\n",
       "Rain           0\n",
       "FFMC           0\n",
       "DMC            0\n",
       "DC             0\n",
       "ISI            0\n",
       "BUI            0\n",
       "FWI            0\n",
       "Classes        0\n",
       "Region         0\n",
       "dtype: int64"
      ]
     },
     "execution_count": 41,
     "metadata": {},
     "output_type": "execute_result"
    }
   ],
   "source": [
    "#so the missing value is not in training dataset but in test dataset\n",
    "train.isnull().sum()"
   ]
  },
  {
   "cell_type": "code",
   "execution_count": 42,
   "id": "9551f182",
   "metadata": {},
   "outputs": [
    {
     "data": {
      "text/html": [
       "<div>\n",
       "<style scoped>\n",
       "    .dataframe tbody tr th:only-of-type {\n",
       "        vertical-align: middle;\n",
       "    }\n",
       "\n",
       "    .dataframe tbody tr th {\n",
       "        vertical-align: top;\n",
       "    }\n",
       "\n",
       "    .dataframe thead th {\n",
       "        text-align: right;\n",
       "    }\n",
       "</style>\n",
       "<table border=\"1\" class=\"dataframe\">\n",
       "  <thead>\n",
       "    <tr style=\"text-align: right;\">\n",
       "      <th></th>\n",
       "      <th>Temperature</th>\n",
       "      <th>RH</th>\n",
       "      <th>Ws</th>\n",
       "      <th>Rain</th>\n",
       "      <th>FFMC</th>\n",
       "      <th>DMC</th>\n",
       "      <th>DC</th>\n",
       "      <th>ISI</th>\n",
       "      <th>BUI</th>\n",
       "      <th>FWI</th>\n",
       "      <th>Classes</th>\n",
       "      <th>Region</th>\n",
       "    </tr>\n",
       "  </thead>\n",
       "  <tbody>\n",
       "    <tr>\n",
       "      <th>24</th>\n",
       "      <td>31.0</td>\n",
       "      <td>64</td>\n",
       "      <td>15</td>\n",
       "      <td>0.0</td>\n",
       "      <td>86.7</td>\n",
       "      <td>14.2</td>\n",
       "      <td>63.8</td>\n",
       "      <td>5.7</td>\n",
       "      <td>18.3</td>\n",
       "      <td>8.4</td>\n",
       "      <td>fire</td>\n",
       "      <td>Bejaia</td>\n",
       "    </tr>\n",
       "    <tr>\n",
       "      <th>6</th>\n",
       "      <td>33.0</td>\n",
       "      <td>54</td>\n",
       "      <td>13</td>\n",
       "      <td>0.0</td>\n",
       "      <td>88.2</td>\n",
       "      <td>9.9</td>\n",
       "      <td>30.5</td>\n",
       "      <td>6.4</td>\n",
       "      <td>10.9</td>\n",
       "      <td>7.2</td>\n",
       "      <td>fire</td>\n",
       "      <td>Bejaia</td>\n",
       "    </tr>\n",
       "    <tr>\n",
       "      <th>155</th>\n",
       "      <td>33.0</td>\n",
       "      <td>48</td>\n",
       "      <td>16</td>\n",
       "      <td>0.0</td>\n",
       "      <td>87.6</td>\n",
       "      <td>7.9</td>\n",
       "      <td>17.8</td>\n",
       "      <td>6.8</td>\n",
       "      <td>7.8</td>\n",
       "      <td>6.4</td>\n",
       "      <td>fire</td>\n",
       "      <td>Sidi Bel Abbes</td>\n",
       "    </tr>\n",
       "    <tr>\n",
       "      <th>213</th>\n",
       "      <td>35.0</td>\n",
       "      <td>53</td>\n",
       "      <td>17</td>\n",
       "      <td>0.5</td>\n",
       "      <td>80.2</td>\n",
       "      <td>20.7</td>\n",
       "      <td>149.2</td>\n",
       "      <td>2.7</td>\n",
       "      <td>30.6</td>\n",
       "      <td>5.9</td>\n",
       "      <td>fire</td>\n",
       "      <td>Sidi Bel Abbes</td>\n",
       "    </tr>\n",
       "    <tr>\n",
       "      <th>200</th>\n",
       "      <td>40.0</td>\n",
       "      <td>41</td>\n",
       "      <td>10</td>\n",
       "      <td>0.1</td>\n",
       "      <td>92.0</td>\n",
       "      <td>22.6</td>\n",
       "      <td>65.1</td>\n",
       "      <td>9.5</td>\n",
       "      <td>24.2</td>\n",
       "      <td>14.8</td>\n",
       "      <td>fire</td>\n",
       "      <td>Sidi Bel Abbes</td>\n",
       "    </tr>\n",
       "    <tr>\n",
       "      <th>...</th>\n",
       "      <td>...</td>\n",
       "      <td>...</td>\n",
       "      <td>...</td>\n",
       "      <td>...</td>\n",
       "      <td>...</td>\n",
       "      <td>...</td>\n",
       "      <td>...</td>\n",
       "      <td>...</td>\n",
       "      <td>...</td>\n",
       "      <td>...</td>\n",
       "      <td>...</td>\n",
       "      <td>...</td>\n",
       "    </tr>\n",
       "    <tr>\n",
       "      <th>182</th>\n",
       "      <td>34.0</td>\n",
       "      <td>59</td>\n",
       "      <td>16</td>\n",
       "      <td>0.0</td>\n",
       "      <td>88.1</td>\n",
       "      <td>19.5</td>\n",
       "      <td>47.2</td>\n",
       "      <td>7.4</td>\n",
       "      <td>19.5</td>\n",
       "      <td>10.9</td>\n",
       "      <td>fire</td>\n",
       "      <td>Sidi Bel Abbes</td>\n",
       "    </tr>\n",
       "    <tr>\n",
       "      <th>5</th>\n",
       "      <td>31.0</td>\n",
       "      <td>67</td>\n",
       "      <td>14</td>\n",
       "      <td>0.0</td>\n",
       "      <td>82.6</td>\n",
       "      <td>5.8</td>\n",
       "      <td>22.2</td>\n",
       "      <td>3.1</td>\n",
       "      <td>7.0</td>\n",
       "      <td>2.5</td>\n",
       "      <td>fire</td>\n",
       "      <td>Bejaia</td>\n",
       "    </tr>\n",
       "    <tr>\n",
       "      <th>56</th>\n",
       "      <td>36.0</td>\n",
       "      <td>48</td>\n",
       "      <td>13</td>\n",
       "      <td>0.0</td>\n",
       "      <td>90.3</td>\n",
       "      <td>22.2</td>\n",
       "      <td>108.5</td>\n",
       "      <td>8.7</td>\n",
       "      <td>29.4</td>\n",
       "      <td>15.3</td>\n",
       "      <td>fire</td>\n",
       "      <td>Bejaia</td>\n",
       "    </tr>\n",
       "    <tr>\n",
       "      <th>127</th>\n",
       "      <td>30.0</td>\n",
       "      <td>64</td>\n",
       "      <td>14</td>\n",
       "      <td>0.0</td>\n",
       "      <td>79.4</td>\n",
       "      <td>5.2</td>\n",
       "      <td>15.4</td>\n",
       "      <td>2.2</td>\n",
       "      <td>5.6</td>\n",
       "      <td>1.0</td>\n",
       "      <td>not fire</td>\n",
       "      <td>Sidi Bel Abbes</td>\n",
       "    </tr>\n",
       "    <tr>\n",
       "      <th>150</th>\n",
       "      <td>36.0</td>\n",
       "      <td>55</td>\n",
       "      <td>15</td>\n",
       "      <td>0.0</td>\n",
       "      <td>89.1</td>\n",
       "      <td>20.9</td>\n",
       "      <td>43.3</td>\n",
       "      <td>8.0</td>\n",
       "      <td>20.8</td>\n",
       "      <td>12.0</td>\n",
       "      <td>fire</td>\n",
       "      <td>Sidi Bel Abbes</td>\n",
       "    </tr>\n",
       "  </tbody>\n",
       "</table>\n",
       "<p>81 rows × 12 columns</p>\n",
       "</div>"
      ],
      "text/plain": [
       "     Temperature  RH  Ws  Rain  FFMC   DMC     DC  ISI   BUI   FWI  \\\n",
       "24          31.0  64  15   0.0  86.7  14.2   63.8  5.7  18.3   8.4   \n",
       "6           33.0  54  13   0.0  88.2   9.9   30.5  6.4  10.9   7.2   \n",
       "155         33.0  48  16   0.0  87.6   7.9   17.8  6.8   7.8   6.4   \n",
       "213         35.0  53  17   0.5  80.2  20.7  149.2  2.7  30.6   5.9   \n",
       "200         40.0  41  10   0.1  92.0  22.6   65.1  9.5  24.2  14.8   \n",
       "..           ...  ..  ..   ...   ...   ...    ...  ...   ...   ...   \n",
       "182         34.0  59  16   0.0  88.1  19.5   47.2  7.4  19.5  10.9   \n",
       "5           31.0  67  14   0.0  82.6   5.8   22.2  3.1   7.0   2.5   \n",
       "56          36.0  48  13   0.0  90.3  22.2  108.5  8.7  29.4  15.3   \n",
       "127         30.0  64  14   0.0  79.4   5.2   15.4  2.2   5.6   1.0   \n",
       "150         36.0  55  15   0.0  89.1  20.9   43.3  8.0  20.8  12.0   \n",
       "\n",
       "         Classes          Region  \n",
       "24       fire             Bejaia  \n",
       "6        fire             Bejaia  \n",
       "155      fire     Sidi Bel Abbes  \n",
       "213      fire     Sidi Bel Abbes  \n",
       "200      fire     Sidi Bel Abbes  \n",
       "..           ...             ...  \n",
       "182      fire     Sidi Bel Abbes  \n",
       "5        fire             Bejaia  \n",
       "56       fire             Bejaia  \n",
       "127  not fire     Sidi Bel Abbes  \n",
       "150      fire     Sidi Bel Abbes  \n",
       "\n",
       "[81 rows x 12 columns]"
      ]
     },
     "execution_count": 42,
     "metadata": {},
     "output_type": "execute_result"
    }
   ],
   "source": [
    "#we treat the missing value in test dataset\n",
    "#filling classes column with its mode value\n",
    "val= test['Classes'].mode()\n",
    "test['Classes'].fillna(value=val[0],inplace = True)\n",
    "test"
   ]
  },
  {
   "cell_type": "code",
   "execution_count": 43,
   "id": "fcc8b663",
   "metadata": {},
   "outputs": [
    {
     "data": {
      "text/plain": [
       "array(['not fire   ', 'fire   ', 'not fire', 'fire', 'fire ',\n",
       "       'not fire     ', 'not fire    ', 'not fire '], dtype=object)"
      ]
     },
     "execution_count": 43,
     "metadata": {},
     "output_type": "execute_result"
    }
   ],
   "source": [
    "train['Classes'].unique()"
   ]
  },
  {
   "cell_type": "code",
   "execution_count": 44,
   "id": "87c78a94",
   "metadata": {},
   "outputs": [
    {
     "data": {
      "text/plain": [
       "array(['fire   ', 'not fire   ', 'fire ', 'fire'], dtype=object)"
      ]
     },
     "execution_count": 44,
     "metadata": {},
     "output_type": "execute_result"
    }
   ],
   "source": [
    "test['Classes'].unique()"
   ]
  },
  {
   "cell_type": "code",
   "execution_count": 45,
   "id": "39a83359",
   "metadata": {},
   "outputs": [],
   "source": [
    "train['Classes'] = train['Classes'].map(lambda x: x.strip())"
   ]
  },
  {
   "cell_type": "code",
   "execution_count": 46,
   "id": "401f0679",
   "metadata": {},
   "outputs": [],
   "source": [
    "test['Classes'] = test['Classes'].map(lambda x: x.strip())"
   ]
  },
  {
   "cell_type": "code",
   "execution_count": 47,
   "id": "d630825b",
   "metadata": {},
   "outputs": [
    {
     "data": {
      "text/plain": [
       "fire        53\n",
       "not fire    28\n",
       "Name: Classes, dtype: int64"
      ]
     },
     "execution_count": 47,
     "metadata": {},
     "output_type": "execute_result"
    }
   ],
   "source": [
    "test['Classes'].value_counts()"
   ]
  },
  {
   "cell_type": "markdown",
   "id": "b56e3ebc",
   "metadata": {},
   "source": [
    "# Label Encoding"
   ]
  },
  {
   "cell_type": "code",
   "execution_count": 48,
   "id": "757bc089",
   "metadata": {},
   "outputs": [],
   "source": [
    "# we encode seperately for test and train dataset\n",
    "from sklearn.preprocessing import LabelEncoder\n",
    "lbl_encode = LabelEncoder()"
   ]
  },
  {
   "cell_type": "code",
   "execution_count": 49,
   "id": "f86d71d8",
   "metadata": {},
   "outputs": [
    {
     "data": {
      "text/plain": [
       "0    82\n",
       "1    81\n",
       "Name: Region_label, dtype: int64"
      ]
     },
     "execution_count": 49,
     "metadata": {},
     "output_type": "execute_result"
    }
   ],
   "source": [
    "lbl_encode.fit_transform(train['Region'])\n",
    "train['Region_label']= lbl_encode.fit_transform(train['Region'])\n",
    "train['Region_label'].value_counts()"
   ]
  },
  {
   "cell_type": "code",
   "execution_count": 50,
   "id": "aab35b48",
   "metadata": {},
   "outputs": [
    {
     "data": {
      "text/plain": [
       "Bejaia            82\n",
       "Sidi Bel Abbes    81\n",
       "Name: Region, dtype: int64"
      ]
     },
     "execution_count": 50,
     "metadata": {},
     "output_type": "execute_result"
    }
   ],
   "source": [
    "train['Region'].value_counts()"
   ]
  },
  {
   "cell_type": "code",
   "execution_count": 51,
   "id": "085fa293",
   "metadata": {},
   "outputs": [
    {
     "data": {
      "text/plain": [
       "0    85\n",
       "1    78\n",
       "Name: Classes_label, dtype: int64"
      ]
     },
     "execution_count": 51,
     "metadata": {},
     "output_type": "execute_result"
    }
   ],
   "source": [
    "lbl_encode.fit_transform(train['Classes'])\n",
    "train['Classes_label']= lbl_encode.fit_transform(train['Classes'])\n",
    "train['Classes_label'].value_counts()"
   ]
  },
  {
   "cell_type": "code",
   "execution_count": 52,
   "id": "0962b6bf",
   "metadata": {},
   "outputs": [
    {
     "data": {
      "text/plain": [
       "fire        85\n",
       "not fire    78\n",
       "Name: Classes, dtype: int64"
      ]
     },
     "execution_count": 52,
     "metadata": {},
     "output_type": "execute_result"
    }
   ],
   "source": [
    "train['Classes'].value_counts()"
   ]
  },
  {
   "cell_type": "code",
   "execution_count": 53,
   "id": "19f82cff",
   "metadata": {},
   "outputs": [
    {
     "data": {
      "text/plain": [
       "1    41\n",
       "0    40\n",
       "Name: Region_label, dtype: int64"
      ]
     },
     "execution_count": 53,
     "metadata": {},
     "output_type": "execute_result"
    }
   ],
   "source": [
    "lbl_encode.fit_transform(train['Region'])\n",
    "test['Region_label']= lbl_encode.fit_transform(test['Region'])\n",
    "test['Region_label'].value_counts()"
   ]
  },
  {
   "cell_type": "code",
   "execution_count": 61,
   "id": "02447145",
   "metadata": {},
   "outputs": [
    {
     "data": {
      "text/plain": [
       "0    53\n",
       "1    28\n",
       "Name: Classes_label, dtype: int64"
      ]
     },
     "execution_count": 61,
     "metadata": {},
     "output_type": "execute_result"
    }
   ],
   "source": [
    "lbl_encode.fit_transform(train['Classes'])\n",
    "test['Classes_label']= lbl_encode.fit_transform(test['Classes'])\n",
    "test['Classes_label'].value_counts()"
   ]
  },
  {
   "cell_type": "markdown",
   "id": "2feeabc1",
   "metadata": {},
   "source": [
    "# Segregating into X & Y Columns"
   ]
  },
  {
   "cell_type": "code",
   "execution_count": 62,
   "id": "5ce0dc73",
   "metadata": {},
   "outputs": [
    {
     "data": {
      "text/html": [
       "<div>\n",
       "<style scoped>\n",
       "    .dataframe tbody tr th:only-of-type {\n",
       "        vertical-align: middle;\n",
       "    }\n",
       "\n",
       "    .dataframe tbody tr th {\n",
       "        vertical-align: top;\n",
       "    }\n",
       "\n",
       "    .dataframe thead th {\n",
       "        text-align: right;\n",
       "    }\n",
       "</style>\n",
       "<table border=\"1\" class=\"dataframe\">\n",
       "  <thead>\n",
       "    <tr style=\"text-align: right;\">\n",
       "      <th></th>\n",
       "      <th>Temperature</th>\n",
       "      <th>RH</th>\n",
       "      <th>Ws</th>\n",
       "      <th>Rain</th>\n",
       "      <th>FFMC</th>\n",
       "      <th>DMC</th>\n",
       "      <th>DC</th>\n",
       "      <th>ISI</th>\n",
       "      <th>BUI</th>\n",
       "      <th>FWI</th>\n",
       "      <th>Region_label</th>\n",
       "    </tr>\n",
       "  </thead>\n",
       "  <tbody>\n",
       "    <tr>\n",
       "      <th>114</th>\n",
       "      <td>32.0</td>\n",
       "      <td>54</td>\n",
       "      <td>11</td>\n",
       "      <td>0.5</td>\n",
       "      <td>73.7</td>\n",
       "      <td>7.9</td>\n",
       "      <td>30.4</td>\n",
       "      <td>1.2</td>\n",
       "      <td>9.6</td>\n",
       "      <td>0.7</td>\n",
       "      <td>0</td>\n",
       "    </tr>\n",
       "    <tr>\n",
       "      <th>65</th>\n",
       "      <td>34.0</td>\n",
       "      <td>65</td>\n",
       "      <td>13</td>\n",
       "      <td>0.0</td>\n",
       "      <td>86.8</td>\n",
       "      <td>11.1</td>\n",
       "      <td>29.7</td>\n",
       "      <td>5.2</td>\n",
       "      <td>11.5</td>\n",
       "      <td>6.1</td>\n",
       "      <td>0</td>\n",
       "    </tr>\n",
       "    <tr>\n",
       "      <th>134</th>\n",
       "      <td>31.0</td>\n",
       "      <td>42</td>\n",
       "      <td>21</td>\n",
       "      <td>0.0</td>\n",
       "      <td>90.6</td>\n",
       "      <td>18.2</td>\n",
       "      <td>30.5</td>\n",
       "      <td>13.4</td>\n",
       "      <td>18.0</td>\n",
       "      <td>16.7</td>\n",
       "      <td>1</td>\n",
       "    </tr>\n",
       "    <tr>\n",
       "      <th>209</th>\n",
       "      <td>34.0</td>\n",
       "      <td>40</td>\n",
       "      <td>18</td>\n",
       "      <td>0.0</td>\n",
       "      <td>92.1</td>\n",
       "      <td>56.3</td>\n",
       "      <td>157.5</td>\n",
       "      <td>14.3</td>\n",
       "      <td>59.5</td>\n",
       "      <td>31.1</td>\n",
       "      <td>1</td>\n",
       "    </tr>\n",
       "    <tr>\n",
       "      <th>164</th>\n",
       "      <td>34.0</td>\n",
       "      <td>56</td>\n",
       "      <td>15</td>\n",
       "      <td>2.9</td>\n",
       "      <td>74.8</td>\n",
       "      <td>7.1</td>\n",
       "      <td>9.5</td>\n",
       "      <td>1.6</td>\n",
       "      <td>6.8</td>\n",
       "      <td>0.8</td>\n",
       "      <td>1</td>\n",
       "    </tr>\n",
       "    <tr>\n",
       "      <th>...</th>\n",
       "      <td>...</td>\n",
       "      <td>...</td>\n",
       "      <td>...</td>\n",
       "      <td>...</td>\n",
       "      <td>...</td>\n",
       "      <td>...</td>\n",
       "      <td>...</td>\n",
       "      <td>...</td>\n",
       "      <td>...</td>\n",
       "      <td>...</td>\n",
       "      <td>...</td>\n",
       "    </tr>\n",
       "    <tr>\n",
       "      <th>106</th>\n",
       "      <td>24.0</td>\n",
       "      <td>82</td>\n",
       "      <td>15</td>\n",
       "      <td>0.4</td>\n",
       "      <td>44.9</td>\n",
       "      <td>0.9</td>\n",
       "      <td>7.3</td>\n",
       "      <td>0.2</td>\n",
       "      <td>1.4</td>\n",
       "      <td>0.0</td>\n",
       "      <td>0</td>\n",
       "    </tr>\n",
       "    <tr>\n",
       "      <th>14</th>\n",
       "      <td>28.0</td>\n",
       "      <td>80</td>\n",
       "      <td>17</td>\n",
       "      <td>3.1</td>\n",
       "      <td>49.4</td>\n",
       "      <td>3.0</td>\n",
       "      <td>7.4</td>\n",
       "      <td>0.4</td>\n",
       "      <td>3.0</td>\n",
       "      <td>0.1</td>\n",
       "      <td>0</td>\n",
       "    </tr>\n",
       "    <tr>\n",
       "      <th>92</th>\n",
       "      <td>25.0</td>\n",
       "      <td>76</td>\n",
       "      <td>17</td>\n",
       "      <td>7.2</td>\n",
       "      <td>46.0</td>\n",
       "      <td>1.3</td>\n",
       "      <td>7.5</td>\n",
       "      <td>0.2</td>\n",
       "      <td>1.8</td>\n",
       "      <td>0.1</td>\n",
       "      <td>0</td>\n",
       "    </tr>\n",
       "    <tr>\n",
       "      <th>181</th>\n",
       "      <td>33.0</td>\n",
       "      <td>57</td>\n",
       "      <td>16</td>\n",
       "      <td>0.0</td>\n",
       "      <td>87.5</td>\n",
       "      <td>15.7</td>\n",
       "      <td>37.6</td>\n",
       "      <td>6.7</td>\n",
       "      <td>15.7</td>\n",
       "      <td>9.0</td>\n",
       "      <td>1</td>\n",
       "    </tr>\n",
       "    <tr>\n",
       "      <th>102</th>\n",
       "      <td>30.0</td>\n",
       "      <td>77</td>\n",
       "      <td>21</td>\n",
       "      <td>1.8</td>\n",
       "      <td>58.5</td>\n",
       "      <td>1.9</td>\n",
       "      <td>8.4</td>\n",
       "      <td>1.1</td>\n",
       "      <td>2.4</td>\n",
       "      <td>0.3</td>\n",
       "      <td>0</td>\n",
       "    </tr>\n",
       "  </tbody>\n",
       "</table>\n",
       "<p>163 rows × 11 columns</p>\n",
       "</div>"
      ],
      "text/plain": [
       "     Temperature  RH  Ws  Rain  FFMC   DMC     DC   ISI   BUI   FWI  \\\n",
       "114         32.0  54  11   0.5  73.7   7.9   30.4   1.2   9.6   0.7   \n",
       "65          34.0  65  13   0.0  86.8  11.1   29.7   5.2  11.5   6.1   \n",
       "134         31.0  42  21   0.0  90.6  18.2   30.5  13.4  18.0  16.7   \n",
       "209         34.0  40  18   0.0  92.1  56.3  157.5  14.3  59.5  31.1   \n",
       "164         34.0  56  15   2.9  74.8   7.1    9.5   1.6   6.8   0.8   \n",
       "..           ...  ..  ..   ...   ...   ...    ...   ...   ...   ...   \n",
       "106         24.0  82  15   0.4  44.9   0.9    7.3   0.2   1.4   0.0   \n",
       "14          28.0  80  17   3.1  49.4   3.0    7.4   0.4   3.0   0.1   \n",
       "92          25.0  76  17   7.2  46.0   1.3    7.5   0.2   1.8   0.1   \n",
       "181         33.0  57  16   0.0  87.5  15.7   37.6   6.7  15.7   9.0   \n",
       "102         30.0  77  21   1.8  58.5   1.9    8.4   1.1   2.4   0.3   \n",
       "\n",
       "     Region_label  \n",
       "114             0  \n",
       "65              0  \n",
       "134             1  \n",
       "209             1  \n",
       "164             1  \n",
       "..            ...  \n",
       "106             0  \n",
       "14              0  \n",
       "92              0  \n",
       "181             1  \n",
       "102             0  \n",
       "\n",
       "[163 rows x 11 columns]"
      ]
     },
     "execution_count": 62,
     "metadata": {},
     "output_type": "execute_result"
    }
   ],
   "source": [
    "x_train = train.drop(['Classes','Region','Classes_label'],axis=1)\n",
    "y_train = train['Classes_label']\n",
    "x_train"
   ]
  },
  {
   "cell_type": "code",
   "execution_count": 63,
   "id": "3abfd14f",
   "metadata": {},
   "outputs": [
    {
     "data": {
      "text/plain": [
       "114    1\n",
       "65     0\n",
       "134    0\n",
       "209    0\n",
       "164    1\n",
       "      ..\n",
       "106    1\n",
       "14     1\n",
       "92     1\n",
       "181    0\n",
       "102    1\n",
       "Name: Classes_label, Length: 163, dtype: int64"
      ]
     },
     "execution_count": 63,
     "metadata": {},
     "output_type": "execute_result"
    }
   ],
   "source": [
    "y_train"
   ]
  },
  {
   "cell_type": "code",
   "execution_count": 64,
   "id": "3c9a00a3",
   "metadata": {},
   "outputs": [
    {
     "data": {
      "text/plain": [
       "(163, 11)"
      ]
     },
     "execution_count": 64,
     "metadata": {},
     "output_type": "execute_result"
    }
   ],
   "source": [
    "x_train.shape"
   ]
  },
  {
   "cell_type": "code",
   "execution_count": 65,
   "id": "e49d49a8",
   "metadata": {},
   "outputs": [
    {
     "data": {
      "text/plain": [
       "(163,)"
      ]
     },
     "execution_count": 65,
     "metadata": {},
     "output_type": "execute_result"
    }
   ],
   "source": [
    "y_train.shape"
   ]
  },
  {
   "cell_type": "code",
   "execution_count": 66,
   "id": "0a91fdd2",
   "metadata": {},
   "outputs": [
    {
     "data": {
      "text/html": [
       "<div>\n",
       "<style scoped>\n",
       "    .dataframe tbody tr th:only-of-type {\n",
       "        vertical-align: middle;\n",
       "    }\n",
       "\n",
       "    .dataframe tbody tr th {\n",
       "        vertical-align: top;\n",
       "    }\n",
       "\n",
       "    .dataframe thead th {\n",
       "        text-align: right;\n",
       "    }\n",
       "</style>\n",
       "<table border=\"1\" class=\"dataframe\">\n",
       "  <thead>\n",
       "    <tr style=\"text-align: right;\">\n",
       "      <th></th>\n",
       "      <th>Temperature</th>\n",
       "      <th>RH</th>\n",
       "      <th>Ws</th>\n",
       "      <th>Rain</th>\n",
       "      <th>FFMC</th>\n",
       "      <th>DMC</th>\n",
       "      <th>DC</th>\n",
       "      <th>ISI</th>\n",
       "      <th>BUI</th>\n",
       "      <th>FWI</th>\n",
       "      <th>Region_label</th>\n",
       "    </tr>\n",
       "  </thead>\n",
       "  <tbody>\n",
       "    <tr>\n",
       "      <th>24</th>\n",
       "      <td>31.0</td>\n",
       "      <td>64</td>\n",
       "      <td>15</td>\n",
       "      <td>0.0</td>\n",
       "      <td>86.7</td>\n",
       "      <td>14.2</td>\n",
       "      <td>63.8</td>\n",
       "      <td>5.7</td>\n",
       "      <td>18.3</td>\n",
       "      <td>8.4</td>\n",
       "      <td>0</td>\n",
       "    </tr>\n",
       "    <tr>\n",
       "      <th>6</th>\n",
       "      <td>33.0</td>\n",
       "      <td>54</td>\n",
       "      <td>13</td>\n",
       "      <td>0.0</td>\n",
       "      <td>88.2</td>\n",
       "      <td>9.9</td>\n",
       "      <td>30.5</td>\n",
       "      <td>6.4</td>\n",
       "      <td>10.9</td>\n",
       "      <td>7.2</td>\n",
       "      <td>0</td>\n",
       "    </tr>\n",
       "    <tr>\n",
       "      <th>155</th>\n",
       "      <td>33.0</td>\n",
       "      <td>48</td>\n",
       "      <td>16</td>\n",
       "      <td>0.0</td>\n",
       "      <td>87.6</td>\n",
       "      <td>7.9</td>\n",
       "      <td>17.8</td>\n",
       "      <td>6.8</td>\n",
       "      <td>7.8</td>\n",
       "      <td>6.4</td>\n",
       "      <td>1</td>\n",
       "    </tr>\n",
       "    <tr>\n",
       "      <th>213</th>\n",
       "      <td>35.0</td>\n",
       "      <td>53</td>\n",
       "      <td>17</td>\n",
       "      <td>0.5</td>\n",
       "      <td>80.2</td>\n",
       "      <td>20.7</td>\n",
       "      <td>149.2</td>\n",
       "      <td>2.7</td>\n",
       "      <td>30.6</td>\n",
       "      <td>5.9</td>\n",
       "      <td>1</td>\n",
       "    </tr>\n",
       "    <tr>\n",
       "      <th>200</th>\n",
       "      <td>40.0</td>\n",
       "      <td>41</td>\n",
       "      <td>10</td>\n",
       "      <td>0.1</td>\n",
       "      <td>92.0</td>\n",
       "      <td>22.6</td>\n",
       "      <td>65.1</td>\n",
       "      <td>9.5</td>\n",
       "      <td>24.2</td>\n",
       "      <td>14.8</td>\n",
       "      <td>1</td>\n",
       "    </tr>\n",
       "    <tr>\n",
       "      <th>...</th>\n",
       "      <td>...</td>\n",
       "      <td>...</td>\n",
       "      <td>...</td>\n",
       "      <td>...</td>\n",
       "      <td>...</td>\n",
       "      <td>...</td>\n",
       "      <td>...</td>\n",
       "      <td>...</td>\n",
       "      <td>...</td>\n",
       "      <td>...</td>\n",
       "      <td>...</td>\n",
       "    </tr>\n",
       "    <tr>\n",
       "      <th>182</th>\n",
       "      <td>34.0</td>\n",
       "      <td>59</td>\n",
       "      <td>16</td>\n",
       "      <td>0.0</td>\n",
       "      <td>88.1</td>\n",
       "      <td>19.5</td>\n",
       "      <td>47.2</td>\n",
       "      <td>7.4</td>\n",
       "      <td>19.5</td>\n",
       "      <td>10.9</td>\n",
       "      <td>1</td>\n",
       "    </tr>\n",
       "    <tr>\n",
       "      <th>5</th>\n",
       "      <td>31.0</td>\n",
       "      <td>67</td>\n",
       "      <td>14</td>\n",
       "      <td>0.0</td>\n",
       "      <td>82.6</td>\n",
       "      <td>5.8</td>\n",
       "      <td>22.2</td>\n",
       "      <td>3.1</td>\n",
       "      <td>7.0</td>\n",
       "      <td>2.5</td>\n",
       "      <td>0</td>\n",
       "    </tr>\n",
       "    <tr>\n",
       "      <th>56</th>\n",
       "      <td>36.0</td>\n",
       "      <td>48</td>\n",
       "      <td>13</td>\n",
       "      <td>0.0</td>\n",
       "      <td>90.3</td>\n",
       "      <td>22.2</td>\n",
       "      <td>108.5</td>\n",
       "      <td>8.7</td>\n",
       "      <td>29.4</td>\n",
       "      <td>15.3</td>\n",
       "      <td>0</td>\n",
       "    </tr>\n",
       "    <tr>\n",
       "      <th>127</th>\n",
       "      <td>30.0</td>\n",
       "      <td>64</td>\n",
       "      <td>14</td>\n",
       "      <td>0.0</td>\n",
       "      <td>79.4</td>\n",
       "      <td>5.2</td>\n",
       "      <td>15.4</td>\n",
       "      <td>2.2</td>\n",
       "      <td>5.6</td>\n",
       "      <td>1.0</td>\n",
       "      <td>1</td>\n",
       "    </tr>\n",
       "    <tr>\n",
       "      <th>150</th>\n",
       "      <td>36.0</td>\n",
       "      <td>55</td>\n",
       "      <td>15</td>\n",
       "      <td>0.0</td>\n",
       "      <td>89.1</td>\n",
       "      <td>20.9</td>\n",
       "      <td>43.3</td>\n",
       "      <td>8.0</td>\n",
       "      <td>20.8</td>\n",
       "      <td>12.0</td>\n",
       "      <td>1</td>\n",
       "    </tr>\n",
       "  </tbody>\n",
       "</table>\n",
       "<p>81 rows × 11 columns</p>\n",
       "</div>"
      ],
      "text/plain": [
       "     Temperature  RH  Ws  Rain  FFMC   DMC     DC  ISI   BUI   FWI  \\\n",
       "24          31.0  64  15   0.0  86.7  14.2   63.8  5.7  18.3   8.4   \n",
       "6           33.0  54  13   0.0  88.2   9.9   30.5  6.4  10.9   7.2   \n",
       "155         33.0  48  16   0.0  87.6   7.9   17.8  6.8   7.8   6.4   \n",
       "213         35.0  53  17   0.5  80.2  20.7  149.2  2.7  30.6   5.9   \n",
       "200         40.0  41  10   0.1  92.0  22.6   65.1  9.5  24.2  14.8   \n",
       "..           ...  ..  ..   ...   ...   ...    ...  ...   ...   ...   \n",
       "182         34.0  59  16   0.0  88.1  19.5   47.2  7.4  19.5  10.9   \n",
       "5           31.0  67  14   0.0  82.6   5.8   22.2  3.1   7.0   2.5   \n",
       "56          36.0  48  13   0.0  90.3  22.2  108.5  8.7  29.4  15.3   \n",
       "127         30.0  64  14   0.0  79.4   5.2   15.4  2.2   5.6   1.0   \n",
       "150         36.0  55  15   0.0  89.1  20.9   43.3  8.0  20.8  12.0   \n",
       "\n",
       "     Region_label  \n",
       "24              0  \n",
       "6               0  \n",
       "155             1  \n",
       "213             1  \n",
       "200             1  \n",
       "..            ...  \n",
       "182             1  \n",
       "5               0  \n",
       "56              0  \n",
       "127             1  \n",
       "150             1  \n",
       "\n",
       "[81 rows x 11 columns]"
      ]
     },
     "execution_count": 66,
     "metadata": {},
     "output_type": "execute_result"
    }
   ],
   "source": [
    "x_test = test.drop(['Classes','Region','Classes_label'],axis=1)\n",
    "y_test = test['Classes_label']\n",
    "x_test"
   ]
  },
  {
   "cell_type": "code",
   "execution_count": 67,
   "id": "8e1555ea",
   "metadata": {},
   "outputs": [
    {
     "data": {
      "text/plain": [
       "(81,)"
      ]
     },
     "execution_count": 67,
     "metadata": {},
     "output_type": "execute_result"
    }
   ],
   "source": [
    "y_test.shape"
   ]
  },
  {
   "cell_type": "code",
   "execution_count": 68,
   "id": "64dcc15b",
   "metadata": {},
   "outputs": [
    {
     "data": {
      "text/plain": [
       "(81, 11)"
      ]
     },
     "execution_count": 68,
     "metadata": {},
     "output_type": "execute_result"
    }
   ],
   "source": [
    "x_test.shape"
   ]
  },
  {
   "cell_type": "markdown",
   "id": "65f0e456",
   "metadata": {},
   "source": [
    "# Scaling"
   ]
  },
  {
   "cell_type": "code",
   "execution_count": 69,
   "id": "033d83f4",
   "metadata": {},
   "outputs": [
    {
     "data": {
      "text/html": [
       "<style>#sk-container-id-1 {color: black;background-color: white;}#sk-container-id-1 pre{padding: 0;}#sk-container-id-1 div.sk-toggleable {background-color: white;}#sk-container-id-1 label.sk-toggleable__label {cursor: pointer;display: block;width: 100%;margin-bottom: 0;padding: 0.3em;box-sizing: border-box;text-align: center;}#sk-container-id-1 label.sk-toggleable__label-arrow:before {content: \"▸\";float: left;margin-right: 0.25em;color: #696969;}#sk-container-id-1 label.sk-toggleable__label-arrow:hover:before {color: black;}#sk-container-id-1 div.sk-estimator:hover label.sk-toggleable__label-arrow:before {color: black;}#sk-container-id-1 div.sk-toggleable__content {max-height: 0;max-width: 0;overflow: hidden;text-align: left;background-color: #f0f8ff;}#sk-container-id-1 div.sk-toggleable__content pre {margin: 0.2em;color: black;border-radius: 0.25em;background-color: #f0f8ff;}#sk-container-id-1 input.sk-toggleable__control:checked~div.sk-toggleable__content {max-height: 200px;max-width: 100%;overflow: auto;}#sk-container-id-1 input.sk-toggleable__control:checked~label.sk-toggleable__label-arrow:before {content: \"▾\";}#sk-container-id-1 div.sk-estimator input.sk-toggleable__control:checked~label.sk-toggleable__label {background-color: #d4ebff;}#sk-container-id-1 div.sk-label input.sk-toggleable__control:checked~label.sk-toggleable__label {background-color: #d4ebff;}#sk-container-id-1 input.sk-hidden--visually {border: 0;clip: rect(1px 1px 1px 1px);clip: rect(1px, 1px, 1px, 1px);height: 1px;margin: -1px;overflow: hidden;padding: 0;position: absolute;width: 1px;}#sk-container-id-1 div.sk-estimator {font-family: monospace;background-color: #f0f8ff;border: 1px dotted black;border-radius: 0.25em;box-sizing: border-box;margin-bottom: 0.5em;}#sk-container-id-1 div.sk-estimator:hover {background-color: #d4ebff;}#sk-container-id-1 div.sk-parallel-item::after {content: \"\";width: 100%;border-bottom: 1px solid gray;flex-grow: 1;}#sk-container-id-1 div.sk-label:hover label.sk-toggleable__label {background-color: #d4ebff;}#sk-container-id-1 div.sk-serial::before {content: \"\";position: absolute;border-left: 1px solid gray;box-sizing: border-box;top: 0;bottom: 0;left: 50%;z-index: 0;}#sk-container-id-1 div.sk-serial {display: flex;flex-direction: column;align-items: center;background-color: white;padding-right: 0.2em;padding-left: 0.2em;position: relative;}#sk-container-id-1 div.sk-item {position: relative;z-index: 1;}#sk-container-id-1 div.sk-parallel {display: flex;align-items: stretch;justify-content: center;background-color: white;position: relative;}#sk-container-id-1 div.sk-item::before, #sk-container-id-1 div.sk-parallel-item::before {content: \"\";position: absolute;border-left: 1px solid gray;box-sizing: border-box;top: 0;bottom: 0;left: 50%;z-index: -1;}#sk-container-id-1 div.sk-parallel-item {display: flex;flex-direction: column;z-index: 1;position: relative;background-color: white;}#sk-container-id-1 div.sk-parallel-item:first-child::after {align-self: flex-end;width: 50%;}#sk-container-id-1 div.sk-parallel-item:last-child::after {align-self: flex-start;width: 50%;}#sk-container-id-1 div.sk-parallel-item:only-child::after {width: 0;}#sk-container-id-1 div.sk-dashed-wrapped {border: 1px dashed gray;margin: 0 0.4em 0.5em 0.4em;box-sizing: border-box;padding-bottom: 0.4em;background-color: white;}#sk-container-id-1 div.sk-label label {font-family: monospace;font-weight: bold;display: inline-block;line-height: 1.2em;}#sk-container-id-1 div.sk-label-container {text-align: center;}#sk-container-id-1 div.sk-container {/* jupyter's `normalize.less` sets `[hidden] { display: none; }` but bootstrap.min.css set `[hidden] { display: none !important; }` so we also need the `!important` here to be able to override the default hidden behavior on the sphinx rendered scikit-learn.org. See: https://github.com/scikit-learn/scikit-learn/issues/21755 */display: inline-block !important;position: relative;}#sk-container-id-1 div.sk-text-repr-fallback {display: none;}</style><div id=\"sk-container-id-1\" class=\"sk-top-container\"><div class=\"sk-text-repr-fallback\"><pre>StandardScaler()</pre><b>In a Jupyter environment, please rerun this cell to show the HTML representation or trust the notebook. <br />On GitHub, the HTML representation is unable to render, please try loading this page with nbviewer.org.</b></div><div class=\"sk-container\" hidden><div class=\"sk-item\"><div class=\"sk-estimator sk-toggleable\"><input class=\"sk-toggleable__control sk-hidden--visually\" id=\"sk-estimator-id-1\" type=\"checkbox\" checked><label for=\"sk-estimator-id-1\" class=\"sk-toggleable__label sk-toggleable__label-arrow\">StandardScaler</label><div class=\"sk-toggleable__content\"><pre>StandardScaler()</pre></div></div></div></div></div>"
      ],
      "text/plain": [
       "StandardScaler()"
      ]
     },
     "execution_count": 69,
     "metadata": {},
     "output_type": "execute_result"
    }
   ],
   "source": [
    "#STANDARDISE or feature scaling MY DATA only on independent variables\n",
    "from sklearn.preprocessing import StandardScaler\n",
    "scaler= StandardScaler()\n",
    "scaler"
   ]
  },
  {
   "cell_type": "code",
   "execution_count": 70,
   "id": "eea03335",
   "metadata": {},
   "outputs": [
    {
     "data": {
      "text/plain": [
       "array([[ 0.00487747, -0.60257784, -1.68484146, ..., -0.47763563,\n",
       "        -0.8196431 , -0.99388373],\n",
       "       [ 0.53489642,  0.14460201, -0.93856657, ..., -0.3471914 ,\n",
       "        -0.08219052, -0.99388373],\n",
       "       [-0.260132  , -1.41768313,  2.04653297, ...,  0.09906517,\n",
       "         1.36540157,  1.0061539 ],\n",
       "       ...,\n",
       "       [-1.85018883,  0.89178186,  0.5539832 , ..., -1.01314351,\n",
       "        -0.90158227, -0.99388373],\n",
       "       [ 0.26988695, -0.39880152,  0.18084575, ..., -0.058841  ,\n",
       "         0.31384882,  1.0061539 ],\n",
       "       [-0.52514147,  0.9597073 ,  2.04653297, ..., -0.9719506 ,\n",
       "        -0.87426921, -0.99388373]])"
      ]
     },
     "execution_count": 70,
     "metadata": {},
     "output_type": "execute_result"
    }
   ],
   "source": [
    "#train independent variables\n",
    "x_train = scaler.fit_transform(x_train)\n",
    "x_train  "
   ]
  },
  {
   "cell_type": "code",
   "execution_count": 71,
   "id": "1cce50d1",
   "metadata": {},
   "outputs": [
    {
     "data": {
      "text/plain": [
       "array([[-2.60131998e-01,  7.66765714e-02, -1.92291688e-01,\n",
       "        -3.94361879e-01,  6.76854493e-01, -3.05224430e-02,\n",
       "         3.01184828e-01,  2.81509163e-01,  1.19661624e-01,\n",
       "         2.31909648e-01, -9.93883735e-01],\n",
       "       [ 2.69886948e-01, -6.02577838e-01, -9.38566574e-01,\n",
       "        -3.94361879e-01,  7.79312965e-01, -3.70096733e-01,\n",
       "        -3.74297004e-01,  4.49765818e-01, -3.88384315e-01,\n",
       "         6.80312985e-02, -9.93883735e-01],\n",
       "       [ 2.69886948e-01, -1.01013048e+00,  1.80845755e-01,\n",
       "        -3.94361879e-01,  7.38329576e-01, -5.28038264e-01,\n",
       "        -6.31913198e-01,  5.45912478e-01, -6.01214370e-01,\n",
       "        -4.12209346e-02,  1.00615390e+00],\n",
       "       [ 7.99905893e-01, -6.70503279e-01,  5.53983197e-01,\n",
       "        -1.70542289e-01,  2.32867782e-01,  4.82787531e-01,\n",
       "         2.03350160e+00, -4.39590788e-01,  9.64116361e-01,\n",
       "        -1.09503580e-01,  1.00615390e+00],\n",
       "       [ 2.12495326e+00, -1.48560857e+00, -2.05797890e+00,\n",
       "        -3.49597961e-01,  1.03887443e+00,  6.32831985e-01,\n",
       "         3.27554990e-01,  1.19490243e+00,  5.24725278e-01,\n",
       "         1.10592751e+00,  1.00615390e+00],\n",
       "       [ 1.85994378e+00,  7.66765714e-02, -2.43111635e+00,\n",
       "         1.42805137e-01, -2.04288364e-01, -2.27949356e-01,\n",
       "        -6.70454203e-01, -8.24177428e-01, -3.54056886e-01,\n",
       "        -8.19643095e-01,  1.00615390e+00],\n",
       "       [ 1.85994378e+00, -1.62145945e+00, -1.92291688e-01,\n",
       "        -3.04834043e-01,  8.54449178e-01,  9.58307813e-02,\n",
       "        -2.74901779e-01,  8.82425788e-01, -5.19755172e-02,\n",
       "         5.46009818e-01,  1.00615390e+00],\n",
       "       [-7.90150943e-01,  1.16348363e+00, -5.65429131e-01,\n",
       "         5.00916482e-01, -1.91876013e+00, -9.78171625e-01,\n",
       "        -8.38817542e-01, -1.01647075e+00, -9.58219625e-01,\n",
       "        -9.01582270e-01,  1.00615390e+00],\n",
       "       [-1.05516042e+00,  1.09555819e+00, -1.31170402e+00,\n",
       "        -3.94361879e-01, -2.45271753e-01, -4.01685039e-01,\n",
       "        -5.37981164e-02, -7.76104098e-01, -2.71671058e-01,\n",
       "        -7.92330037e-01, -9.93883735e-01],\n",
       "       [ 2.69886948e-01,  6.88005540e-01, -1.31170402e+00,\n",
       "         4.11388646e-01, -1.15373687e+00, -9.78171625e-01,\n",
       "        -8.12447381e-01, -9.20324088e-01, -9.51354139e-01,\n",
       "        -8.74269212e-01, -9.93883735e-01],\n",
       "       [-1.05516042e+00,  8.91781863e-01,  2.04653297e+00,\n",
       "        -3.94361879e-01, -2.86255141e-01, -5.99111952e-01,\n",
       "        -4.75720702e-01, -9.20324088e-01, -5.66886942e-01,\n",
       "        -8.60612683e-01, -9.93883735e-01],\n",
       "       [ 5.34896420e-01, -3.30876074e-01, -9.38566574e-01,\n",
       "        -3.04834043e-01,  1.85053829e-01,  3.24846000e-01,\n",
       "         7.92075529e-01, -5.83810778e-01,  5.38456250e-01,\n",
       "        -3.96290692e-01,  1.00615390e+00],\n",
       "       [-2.60131998e-01, -6.02577838e-01, -1.68484146e+00,\n",
       "        -3.94361879e-01,  3.55817948e-01, -6.78082718e-01,\n",
       "        -6.62340307e-01, -4.87664118e-01, -7.11062141e-01,\n",
       "        -6.83077804e-01, -9.93883735e-01],\n",
       "       [ 7.99905893e-01, -3.30876074e-01, -2.05797890e+00,\n",
       "        -3.04834043e-01,  1.03087051e-01, -2.99023045e-01,\n",
       "        -5.93372192e-01, -7.03994103e-01, -4.02115286e-01,\n",
       "        -7.78673508e-01,  1.00615390e+00],\n",
       "       [ 1.06491537e+00, -5.34652397e-01,  9.27120640e-01,\n",
       "        -3.94361879e-01,  8.40788048e-01,  1.49361333e+00,\n",
       "         2.07609955e+00,  1.29104909e+00,  1.82230207e+00,\n",
       "         1.87069314e+00, -9.93883735e-01],\n",
       "       [ 5.34896420e-01,  4.84229217e-01,  1.80845755e-01,\n",
       "        -3.94361879e-01,  6.29040540e-01, -1.41081514e-01,\n",
       "        -4.73692228e-01,  2.09399168e-01, -2.64805573e-01,\n",
       "        -2.51347162e-04,  1.00615390e+00],\n",
       "       [ 1.32992484e+00, -1.75731033e+00, -5.65429131e-01,\n",
       "        -3.94361879e-01,  1.19597742e+00,  1.68314316e+00,\n",
       "         7.67733841e-01,  2.75728566e+00,  1.32798710e+00,\n",
       "         2.67642836e+00,  1.00615390e+00],\n",
       "       [-7.90150943e-01,  1.77481259e+00, -9.38566574e-01,\n",
       "        -8.10144529e-02, -2.77941129e+00, -1.01765701e+00,\n",
       "        -8.38817542e-01, -1.08858074e+00, -9.85681567e-01,\n",
       "        -9.15238799e-01, -9.93883735e-01],\n",
       "       [ 4.87747496e-03,  8.23856422e-01, -5.65429131e-01,\n",
       "        -3.94361879e-01,  6.56362799e-01, -1.25287361e-01,\n",
       "        -1.99848242e-01,  1.61325838e-01, -1.61823288e-01,\n",
       "         1.34051820e-02, -9.93883735e-01],\n",
       "       [ 4.87747496e-03, -5.34652397e-01, -5.65429131e-01,\n",
       "        -3.94361879e-01,  6.42701669e-01, -4.96449958e-01,\n",
       "        -6.19742354e-01,  1.13252508e-01, -5.73752428e-01,\n",
       "        -2.46068872e-01,  1.00615390e+00],\n",
       "       [ 2.69886948e-01,  1.02763274e+00,  5.53983197e-01,\n",
       "        -3.94361879e-01,  2.26037218e-01, -7.88641789e-01,\n",
       "        -6.17713880e-01, -4.39590788e-01, -7.45389569e-01,\n",
       "        -6.83077804e-01, -9.93883735e-01],\n",
       "       [-5.25141470e-01,  1.16348363e+00,  1.80845755e-01,\n",
       "        -2.15306207e-01, -1.16056743e+00, -8.83406707e-01,\n",
       "        -4.43265118e-01, -8.72250758e-01, -7.86582483e-01,\n",
       "        -8.60612683e-01, -9.93883735e-01],\n",
       "       [ 4.87747496e-03, -9.42205043e-01, -1.68484146e+00,\n",
       "        -3.94361879e-01,  8.61279743e-01, -3.77993810e-01,\n",
       "        -3.21556680e-01,  5.45912478e-01, -3.60922372e-01,\n",
       "         1.36313944e-01, -9.93883735e-01],\n",
       "       [-7.90150943e-01,  3.48378335e-01,  1.30025808e+00,\n",
       "         5.32773012e-02, -1.15373687e+00, -9.54480396e-01,\n",
       "        -8.18532803e-01, -8.24177428e-01, -9.37623168e-01,\n",
       "        -8.60612683e-01, -9.93883735e-01],\n",
       "       [ 1.59493431e+00, -1.89316122e+00, -1.92291688e-01,\n",
       "        -3.94361879e-01,  1.16182459e+00,  6.64420291e-01,\n",
       "        -1.26823179e-01,  2.68517566e+00,  4.35473965e-01,\n",
       "         1.93897579e+00,  1.00615390e+00],\n",
       "       [-1.58517936e+00,  1.16348363e+00,  1.80845755e-01,\n",
       "         4.11388646e-01, -2.00755747e+00, -9.22892090e-01,\n",
       "        -8.36789069e-01, -1.01647075e+00, -9.30757682e-01,\n",
       "        -9.01582270e-01, -9.93883735e-01],\n",
       "       [-2.60131998e-01,  1.44602012e-01, -5.65429131e-01,\n",
       "        -3.94361879e-01,  5.26582068e-01, -1.64772744e-01,\n",
       "         1.08479801e-01, -1.27114143e-01, -5.19755172e-02,\n",
       "        -1.50473168e-01, -9.93883735e-01],\n",
       "       [ 7.99905893e-01,  8.75113043e-03, -1.92291688e-01,\n",
       "        -3.94361879e-01,  6.97346188e-01,  3.48537230e-01,\n",
       "         7.33249784e-01,  3.29582493e-01,  5.38456250e-01,\n",
       "         4.77727173e-01, -9.93883735e-01],\n",
       "       [ 7.99905893e-01, -1.07805592e+00,  9.27120640e-01,\n",
       "         2.29147320e+00,  2.73851171e-01, -3.77993810e-01,\n",
       "        -7.96219589e-01, -3.43444128e-01, -4.91366600e-01,\n",
       "        -5.05542925e-01,  1.00615390e+00],\n",
       "       [ 5.34896420e-01, -1.21390681e+00,  9.27120640e-01,\n",
       "        -3.94361879e-01,  9.36415955e-01,  3.24846000e-01,\n",
       "        -5.17696424e-02,  1.62756240e+00,  1.47123567e-01,\n",
       "         1.13324057e+00,  1.00615390e+00],\n",
       "       [-2.60131998e-01, -5.34652397e-01, -1.68484146e+00,\n",
       "        -3.94361879e-01,  7.51990706e-01,  1.51110317e-01,\n",
       "         1.81504864e-01,  2.09399168e-01,  1.81450995e-01,\n",
       "         2.18253119e-01, -9.93883735e-01],\n",
       "       [-5.25141470e-01, -3.30876074e-01, -1.31170402e+00,\n",
       "         1.44095876e+00, -7.30241852e-01, -8.36024248e-01,\n",
       "        -8.22589751e-01, -8.48214093e-01, -8.68968311e-01,\n",
       "        -8.60612683e-01,  1.00615390e+00],\n",
       "       [-2.60131998e-01,  7.66765714e-02,  9.27120640e-01,\n",
       "        -3.94361879e-01,  6.83685058e-01,  2.53772312e-01,\n",
       "         4.63462746e-01,  5.21875813e-01,  3.46222651e-01,\n",
       "         5.32353289e-01, -9.93883735e-01],\n",
       "       [ 7.99905893e-01,  7.66765714e-02,  5.53983197e-01,\n",
       "        -3.94361879e-01,  7.11007317e-01,  1.36726010e+00,\n",
       "         1.96250501e+00,  5.45912478e-01,  1.69185784e+00,\n",
       "         1.22883628e+00, -9.93883735e-01],\n",
       "       [-2.60131998e-01, -5.34652397e-01,  1.80845755e-01,\n",
       "        -3.49597961e-01,  2.12376088e-01, -7.96538865e-01,\n",
       "        -6.68425729e-01, -4.87664118e-01, -7.72851512e-01,\n",
       "        -7.24047391e-01, -9.93883735e-01],\n",
       "       [ 4.87747496e-03, -1.07805592e+00, -5.65429131e-01,\n",
       "        -8.10144529e-02,  4.84425331e-02, -5.91214876e-01,\n",
       "        -8.14475855e-01, -6.55920773e-01, -6.69869227e-01,\n",
       "        -7.92330037e-01, -9.93883735e-01],\n",
       "       [-7.90150943e-01,  7.55930981e-01,  1.30025808e+00,\n",
       "        -3.49597961e-01, -6.76770683e-02, -8.67612554e-01,\n",
       "        -3.39812946e-01, -5.83810778e-01, -7.52255055e-01,\n",
       "        -7.92330037e-01, -9.93883735e-01],\n",
       "       [ 7.99905893e-01, -1.14598137e+00, -9.38566574e-01,\n",
       "        -2.60070125e-01,  4.85598679e-01,  1.82698623e-01,\n",
       "         1.06451327e-01, -2.47297468e-01,  1.67720024e-01,\n",
       "        -1.64129697e-01,  1.00615390e+00],\n",
       "       [ 2.69886948e-01, -5.91743105e-02, -2.05797890e+00,\n",
       "         3.50009899e+00, -7.71225241e-01, -7.88641789e-01,\n",
       "        -8.24618225e-01, -8.72250758e-01, -8.34640883e-01,\n",
       "        -8.60612683e-01,  1.00615390e+00],\n",
       "       [-1.32016989e+00,  1.63896171e+00,  5.03163251e+00,\n",
       "        -1.70542289e-01, -2.11001594e+00, -8.75509630e-01,\n",
       "        -8.32732121e-01, -9.92434083e-01, -9.03295739e-01,\n",
       "        -8.87925741e-01,  1.00615390e+00],\n",
       "       [ 1.06491537e+00, -5.34652397e-01, -9.38566574e-01,\n",
       "        -2.60070125e-01,  3.83140208e-01,  8.00366283e-02,\n",
       "         8.83356857e-01, -1.99224138e-01,  3.73684594e-01,\n",
       "        -5.48774637e-02, -9.93883735e-01],\n",
       "       [ 7.99905893e-01, -6.02577838e-01, -1.68484146e+00,\n",
       "        -3.49597961e-01,  4.71937550e-01, -4.88552881e-01,\n",
       "        -4.59492910e-01, -3.43444128e-01, -4.98232085e-01,\n",
       "        -4.91886396e-01,  1.00615390e+00],\n",
       "       [-2.60131998e-01, -8.74279602e-01,  1.30025808e+00,\n",
       "        -1.25778371e-01,  6.89342274e-02, -3.14817198e-01,\n",
       "        -1.53193341e-01, -5.11700783e-01, -2.51074601e-01,\n",
       "        -5.32855984e-01, -9.93883735e-01],\n",
       "       [-5.25141470e-01,  1.77481259e+00,  1.80845755e-01,\n",
       "        -1.25778371e-01, -2.69744451e+00, -1.06503947e+00,\n",
       "        -8.34760595e-01, -1.08858074e+00, -1.02687448e+00,\n",
       "        -9.15238799e-01, -9.93883735e-01],\n",
       "       [ 1.32992484e+00, -1.55353401e+00, -9.38566574e-01,\n",
       "        -3.94361879e-01,  1.03204386e+00,  6.09140755e-01,\n",
       "         1.32821489e-01,  1.50737908e+00,  3.94281051e-01,\n",
       "         1.22883628e+00,  1.00615390e+00],\n",
       "       [ 4.87747496e-03,  4.16303776e-01,  1.80845755e-01,\n",
       "        -3.94361879e-01,  6.63193364e-01,  7.21395518e-02,\n",
       "        -7.14321508e-03,  2.33435833e-01,  4.41412821e-02,\n",
       "         1.77283532e-01, -9.93883735e-01],\n",
       "       [ 4.87747496e-03,  1.23140907e+00,  5.53983197e-01,\n",
       "        -3.94361879e-01,  5.33412633e-01,  5.14375837e-01,\n",
       "        -1.34937075e-01,  4.11425125e-02,  2.98164252e-01,\n",
       "         1.36313944e-01,  1.00615390e+00],\n",
       "       [ 4.87747496e-03,  3.48378335e-01, -5.65429131e-01,\n",
       "         2.32332973e-01, -6.96089029e-01, -5.43832417e-01,\n",
       "        -8.06361959e-01, -8.24177428e-01, -6.28676313e-01,\n",
       "        -8.33299625e-01, -9.93883735e-01],\n",
       "       [ 7.99905893e-01, -1.96108666e+00,  1.80845755e-01,\n",
       "        -3.04834043e-01,  7.86143530e-01,  1.82698623e-01,\n",
       "        -7.81398040e-02,  7.14169133e-01,  6.47377390e-02,\n",
       "         5.18696760e-01,  1.00615390e+00],\n",
       "       [ 4.87747496e-03, -8.06354161e-01, -9.38566574e-01,\n",
       "        -3.94361879e-01,  8.13465789e-01,  1.11624934e-01,\n",
       "         2.53123684e-02,  5.69949143e-01,  8.53341960e-02,\n",
       "         4.23101056e-01,  1.00615390e+00],\n",
       "       [ 2.69886948e-01, -1.75731033e+00,  1.80845755e-01,\n",
       "        -3.94361879e-01,  1.05253556e+00,  3.68900060e+00,\n",
       "         2.39862691e+00,  2.06022237e+00,  3.25718857e+00,\n",
       "         3.22268953e+00,  1.00615390e+00],\n",
       "       [-7.90150943e-01,  8.23856422e-01,  1.80845755e-01,\n",
       "        -3.94361879e-01,  2.73851171e-01, -8.83406707e-01,\n",
       "        -5.06147812e-01, -4.15554123e-01, -7.86582483e-01,\n",
       "        -6.83077804e-01, -9.93883735e-01],\n",
       "       [-2.60131998e-01,  1.36725995e+00,  5.53983197e-01,\n",
       "        -3.94361879e-01,  5.26582068e-01,  3.80125536e-01,\n",
       "        -3.21556680e-01,  4.11425125e-02,  1.81450995e-01,\n",
       "         8.16878277e-02,  1.00615390e+00],\n",
       "       [ 5.34896420e-01,  7.66765714e-02, -5.65429131e-01,\n",
       "        -3.94361879e-01,  8.27126919e-01,  2.04640868e+00,\n",
       "         2.48179435e+00,  1.07471911e+00,  2.35780995e+00,\n",
       "         1.93897579e+00, -9.93883735e-01],\n",
       "       [ 1.06491537e+00, -6.70503279e-01,  1.30025808e+00,\n",
       "        -3.94361879e-01,  8.47618613e-01,  1.98492776e-01,\n",
       "         1.00709377e+00,  1.31508576e+00,  5.04128821e-01,\n",
       "         1.17421016e+00, -9.93883735e-01],\n",
       "       [-2.60131998e-01,  1.02763274e+00,  9.27120640e-01,\n",
       "        -3.94361879e-01,  6.15379410e-01,  2.44915958e+00,\n",
       "         2.87328982e+00,  4.11425125e-02,  2.78347006e+00,\n",
       "         9.55705693e-01, -9.93883735e-01],\n",
       "       [ 1.06491537e+00, -2.30071386e+00,  9.27120640e-01,\n",
       "        -3.94361879e-01,  1.16865516e+00,  1.97533499e+00,\n",
       "         6.41968455e-01,  3.35820228e+00,  1.57514458e+00,\n",
       "         3.18171994e+00,  1.00615390e+00],\n",
       "       [-2.11519831e+00, -6.02577838e-01,  9.27120640e-01,\n",
       "        -3.49597961e-01,  1.98714958e-01, -8.12333018e-01,\n",
       "        -6.84653521e-01, -6.79957438e-01, -7.86582483e-01,\n",
       "        -8.19643095e-01,  1.00615390e+00],\n",
       "       [-1.05516042e+00, -3.30876074e-01,  9.27120640e-01,\n",
       "         5.90444318e-01, -8.94175407e-01, -8.99200860e-01,\n",
       "        -8.20561277e-01, -8.00140763e-01, -9.10161225e-01,\n",
       "        -8.46956154e-01,  1.00615390e+00],\n",
       "       [ 1.06491537e+00, -2.02901210e+00, -9.38566574e-01,\n",
       "        -3.49597961e-01,  9.43246520e-01,  8.85538433e-01,\n",
       "         5.85171184e-01,  1.07471911e+00,  7.99344705e-01,\n",
       "         1.18786669e+00,  1.00615390e+00],\n",
       "       [ 5.34896420e-01, -3.30876074e-01,  9.27120640e-01,\n",
       "        -3.94361879e-01,  7.65651836e-01, -7.79049021e-02,\n",
       "        -2.46503143e-01,  8.34352458e-01, -1.68688773e-01,\n",
       "         4.36757585e-01,  1.00615390e+00],\n",
       "       [-7.90150943e-01,  1.44602012e-01,  1.30025808e+00,\n",
       "        -1.25778371e-01, -5.79969427e-01, -7.17568100e-01,\n",
       "        -6.84653521e-01, -7.28030768e-01, -7.38524083e-01,\n",
       "        -8.19643095e-01, -9.93883735e-01],\n",
       "       [ 1.06491537e+00, -4.66726956e-01,  1.80845755e-01,\n",
       "        -3.94361879e-01,  8.27126919e-01,  7.27596903e-01,\n",
       "         1.65277072e-01,  8.82425788e-01,  4.97263336e-01,\n",
       "         8.87423047e-01,  1.00615390e+00],\n",
       "       [-2.60131998e-01,  6.20080099e-01, -5.65429131e-01,\n",
       "        -3.94361879e-01,  5.06090374e-01, -4.96449958e-01,\n",
       "        -4.81806124e-01, -1.75187473e-01, -5.11963057e-01,\n",
       "        -3.82634163e-01,  1.00615390e+00],\n",
       "       [ 4.87747496e-03, -1.95025192e-01,  9.27120640e-01,\n",
       "        -2.60070125e-01,  2.11202739e-02, -2.59537662e-01,\n",
       "        -3.95987986e-02, -5.59774113e-01, -1.68688773e-01,\n",
       "        -5.60169042e-01, -9.93883735e-01],\n",
       "       [-1.85018883e+00,  1.57103627e+00,  2.04653297e+00,\n",
       "         1.66477835e+00, -2.45154418e+00, -1.04924531e+00,\n",
       "        -8.40846016e-01, -1.06454408e+00, -1.01314351e+00,\n",
       "        -9.15238799e-01, -9.93883735e-01],\n",
       "       [ 7.99905893e-01, -2.62950633e-01,  5.53983197e-01,\n",
       "        -3.94361879e-01,  7.24668447e-01,  1.68600161e-02,\n",
       "         1.63248598e-01,  5.69949143e-01,  9.21996817e-02,\n",
       "         4.36757585e-01, -9.93883735e-01],\n",
       "       [-1.05516042e+00,  1.43518539e+00,  9.27120640e-01,\n",
       "        -3.94361879e-01,  4.78768115e-01, -8.58019786e-02,\n",
       "         7.05610270e-03, -6.93081752e-03, -3.82445459e-02,\n",
       "        -5.48774637e-02, -9.93883735e-01],\n",
       "       [ 7.99905893e-01, -1.68938489e+00, -1.92291688e-01,\n",
       "        -3.94361879e-01,  1.04570499e+00,  2.89929295e+00,\n",
       "         2.00307449e+00,  1.84389239e+00,  2.63242938e+00,\n",
       "         2.75836754e+00,  1.00615390e+00],\n",
       "       [ 1.32992484e+00, -1.75731033e+00,  9.27120640e-01,\n",
       "        -3.04834043e-01,  8.27126919e-01, -1.33184438e-01,\n",
       "        -6.96824365e-01,  1.91600238e+00, -4.22711743e-01,\n",
       "        -9.15238799e-01,  1.00615390e+00],\n",
       "       [ 5.34896420e-01, -4.66726956e-01,  5.53983197e-01,\n",
       "        -3.49597961e-01,  5.40243198e-01, -3.85890886e-01,\n",
       "        -4.39208171e-01,  4.11425125e-02, -4.29577229e-01,\n",
       "        -2.05099284e-01,  1.00615390e+00],\n",
       "       [-1.05516042e+00,  8.23856422e-01,  1.80845755e-01,\n",
       "        -3.94361879e-01,  3.69479078e-01, -8.04435942e-01,\n",
       "        -5.00062390e-01, -2.95370798e-01, -7.24793112e-01,\n",
       "        -5.73825571e-01,  1.00615390e+00],\n",
       "       [ 7.99905893e-01, -5.91743105e-02,  1.30025808e+00,\n",
       "        -3.94361879e-01,  8.61279743e-01,  6.80214444e-01,\n",
       "         1.45944346e+00,  1.24297576e+00,  1.01217476e+00,\n",
       "         1.43368421e+00, -9.93883735e-01],\n",
       "       [ 2.69886948e-01, -8.74279602e-01, -5.65429131e-01,\n",
       "        -3.94361879e-01,  8.13465789e-01,  6.56523214e-01,\n",
       "         8.89442279e-01,  6.42059138e-01,  8.06210191e-01,\n",
       "         8.46453459e-01, -9.93883735e-01],\n",
       "       [ 7.99905893e-01, -1.96108666e+00,  5.53983197e-01,\n",
       "        -3.94361879e-01,  1.05253556e+00,  7.11802750e-01,\n",
       "         9.80723608e-01,  2.22847903e+00,  8.81730533e-01,\n",
       "         2.03457149e+00,  1.00615390e+00],\n",
       "       [-1.05516042e+00,  1.23140907e+00, -1.92291688e-01,\n",
       "        -3.94361879e-01,  5.33412633e-01, -1.56875667e-01,\n",
       "        -1.51164867e-01, -5.50041475e-02, -1.54957802e-01,\n",
       "        -1.36816639e-01,  1.00615390e+00],\n",
       "       [ 5.34896420e-01, -2.62950633e-01,  1.80845755e-01,\n",
       "        -3.94361879e-01,  7.72482400e-01,  3.88022612e-01,\n",
       "        -3.55418507e-02,  6.90132468e-01,  2.02047452e-01,\n",
       "         5.73322877e-01,  1.00615390e+00],\n",
       "       [-2.60131998e-01,  2.80452894e-01, -5.65429131e-01,\n",
       "        -3.94361879e-01,  3.96801337e-01, -6.93876871e-01,\n",
       "        -5.42660343e-01, -3.43444128e-01, -6.56138256e-01,\n",
       "        -5.73825571e-01, -9.93883735e-01],\n",
       "       [ 1.06491537e+00, -1.01013048e+00, -9.38566574e-01,\n",
       "        -3.94361879e-01,  9.22754826e-01,  6.01243679e-01,\n",
       "         1.20791269e+00,  1.00260911e+00,  8.81730533e-01,\n",
       "         1.17421016e+00, -9.93883735e-01],\n",
       "       [-5.25141470e-01,  7.66765714e-02, -5.65429131e-01,\n",
       "        -3.94361879e-01,  1.78223264e-01, -7.41259330e-01,\n",
       "        -6.80596573e-01, -5.59774113e-01, -7.52255055e-01,\n",
       "        -7.78673508e-01,  1.00615390e+00],\n",
       "       [ 1.06491537e+00, -5.34652397e-01, -1.92291688e-01,\n",
       "        -3.94361879e-01,  8.40788048e-01,  4.98581684e-01,\n",
       "        -1.14652335e-01,  8.34352458e-01,  2.91298766e-01,\n",
       "         7.23544697e-01,  1.00615390e+00]])"
      ]
     },
     "execution_count": 71,
     "metadata": {},
     "output_type": "execute_result"
    }
   ],
   "source": [
    "##TEST independent variables\n",
    "#only transform in test to avoid data leakage \n",
    "#(only techniques shud be known about train data, not the features and data shud not be leaked to test data)\n",
    "x_test = scaler.transform(x_test)\n",
    "x_test"
   ]
  },
  {
   "cell_type": "markdown",
   "id": "55bfba9c",
   "metadata": {},
   "source": [
    "# Baseline Model- Logistic Regression"
   ]
  },
  {
   "cell_type": "code",
   "execution_count": 72,
   "id": "a89016dd",
   "metadata": {},
   "outputs": [],
   "source": [
    "from sklearn.linear_model import LogisticRegression\n",
    "\n",
    "from sklearn.metrics import confusion_matrix, ConfusionMatrixDisplay, classification_report, accuracy_score, precision_score, recall_score,roc_curve, roc_auc_score"
   ]
  },
  {
   "cell_type": "code",
   "execution_count": 73,
   "id": "954eef85",
   "metadata": {},
   "outputs": [],
   "source": [
    "log_model = LogisticRegression()"
   ]
  },
  {
   "cell_type": "code",
   "execution_count": 74,
   "id": "60f30543",
   "metadata": {},
   "outputs": [
    {
     "data": {
      "text/html": [
       "<style>#sk-container-id-2 {color: black;background-color: white;}#sk-container-id-2 pre{padding: 0;}#sk-container-id-2 div.sk-toggleable {background-color: white;}#sk-container-id-2 label.sk-toggleable__label {cursor: pointer;display: block;width: 100%;margin-bottom: 0;padding: 0.3em;box-sizing: border-box;text-align: center;}#sk-container-id-2 label.sk-toggleable__label-arrow:before {content: \"▸\";float: left;margin-right: 0.25em;color: #696969;}#sk-container-id-2 label.sk-toggleable__label-arrow:hover:before {color: black;}#sk-container-id-2 div.sk-estimator:hover label.sk-toggleable__label-arrow:before {color: black;}#sk-container-id-2 div.sk-toggleable__content {max-height: 0;max-width: 0;overflow: hidden;text-align: left;background-color: #f0f8ff;}#sk-container-id-2 div.sk-toggleable__content pre {margin: 0.2em;color: black;border-radius: 0.25em;background-color: #f0f8ff;}#sk-container-id-2 input.sk-toggleable__control:checked~div.sk-toggleable__content {max-height: 200px;max-width: 100%;overflow: auto;}#sk-container-id-2 input.sk-toggleable__control:checked~label.sk-toggleable__label-arrow:before {content: \"▾\";}#sk-container-id-2 div.sk-estimator input.sk-toggleable__control:checked~label.sk-toggleable__label {background-color: #d4ebff;}#sk-container-id-2 div.sk-label input.sk-toggleable__control:checked~label.sk-toggleable__label {background-color: #d4ebff;}#sk-container-id-2 input.sk-hidden--visually {border: 0;clip: rect(1px 1px 1px 1px);clip: rect(1px, 1px, 1px, 1px);height: 1px;margin: -1px;overflow: hidden;padding: 0;position: absolute;width: 1px;}#sk-container-id-2 div.sk-estimator {font-family: monospace;background-color: #f0f8ff;border: 1px dotted black;border-radius: 0.25em;box-sizing: border-box;margin-bottom: 0.5em;}#sk-container-id-2 div.sk-estimator:hover {background-color: #d4ebff;}#sk-container-id-2 div.sk-parallel-item::after {content: \"\";width: 100%;border-bottom: 1px solid gray;flex-grow: 1;}#sk-container-id-2 div.sk-label:hover label.sk-toggleable__label {background-color: #d4ebff;}#sk-container-id-2 div.sk-serial::before {content: \"\";position: absolute;border-left: 1px solid gray;box-sizing: border-box;top: 0;bottom: 0;left: 50%;z-index: 0;}#sk-container-id-2 div.sk-serial {display: flex;flex-direction: column;align-items: center;background-color: white;padding-right: 0.2em;padding-left: 0.2em;position: relative;}#sk-container-id-2 div.sk-item {position: relative;z-index: 1;}#sk-container-id-2 div.sk-parallel {display: flex;align-items: stretch;justify-content: center;background-color: white;position: relative;}#sk-container-id-2 div.sk-item::before, #sk-container-id-2 div.sk-parallel-item::before {content: \"\";position: absolute;border-left: 1px solid gray;box-sizing: border-box;top: 0;bottom: 0;left: 50%;z-index: -1;}#sk-container-id-2 div.sk-parallel-item {display: flex;flex-direction: column;z-index: 1;position: relative;background-color: white;}#sk-container-id-2 div.sk-parallel-item:first-child::after {align-self: flex-end;width: 50%;}#sk-container-id-2 div.sk-parallel-item:last-child::after {align-self: flex-start;width: 50%;}#sk-container-id-2 div.sk-parallel-item:only-child::after {width: 0;}#sk-container-id-2 div.sk-dashed-wrapped {border: 1px dashed gray;margin: 0 0.4em 0.5em 0.4em;box-sizing: border-box;padding-bottom: 0.4em;background-color: white;}#sk-container-id-2 div.sk-label label {font-family: monospace;font-weight: bold;display: inline-block;line-height: 1.2em;}#sk-container-id-2 div.sk-label-container {text-align: center;}#sk-container-id-2 div.sk-container {/* jupyter's `normalize.less` sets `[hidden] { display: none; }` but bootstrap.min.css set `[hidden] { display: none !important; }` so we also need the `!important` here to be able to override the default hidden behavior on the sphinx rendered scikit-learn.org. See: https://github.com/scikit-learn/scikit-learn/issues/21755 */display: inline-block !important;position: relative;}#sk-container-id-2 div.sk-text-repr-fallback {display: none;}</style><div id=\"sk-container-id-2\" class=\"sk-top-container\"><div class=\"sk-text-repr-fallback\"><pre>LogisticRegression()</pre><b>In a Jupyter environment, please rerun this cell to show the HTML representation or trust the notebook. <br />On GitHub, the HTML representation is unable to render, please try loading this page with nbviewer.org.</b></div><div class=\"sk-container\" hidden><div class=\"sk-item\"><div class=\"sk-estimator sk-toggleable\"><input class=\"sk-toggleable__control sk-hidden--visually\" id=\"sk-estimator-id-2\" type=\"checkbox\" checked><label for=\"sk-estimator-id-2\" class=\"sk-toggleable__label sk-toggleable__label-arrow\">LogisticRegression</label><div class=\"sk-toggleable__content\"><pre>LogisticRegression()</pre></div></div></div></div></div>"
      ],
      "text/plain": [
       "LogisticRegression()"
      ]
     },
     "execution_count": 74,
     "metadata": {},
     "output_type": "execute_result"
    }
   ],
   "source": [
    "log_model.fit(x_train, y_train)"
   ]
  },
  {
   "cell_type": "markdown",
   "id": "1d6973b4",
   "metadata": {},
   "source": [
    "# Test Score"
   ]
  },
  {
   "cell_type": "code",
   "execution_count": 76,
   "id": "bedc868f",
   "metadata": {},
   "outputs": [
    {
     "data": {
      "text/plain": [
       "0.9753086419753086"
      ]
     },
     "execution_count": 76,
     "metadata": {},
     "output_type": "execute_result"
    }
   ],
   "source": [
    "log_model.score(x_test, y_test)"
   ]
  },
  {
   "cell_type": "code",
   "execution_count": 77,
   "id": "860bdcf0",
   "metadata": {},
   "outputs": [
    {
     "data": {
      "text/plain": [
       "{'C': 1.0,\n",
       " 'class_weight': None,\n",
       " 'dual': False,\n",
       " 'fit_intercept': True,\n",
       " 'intercept_scaling': 1,\n",
       " 'l1_ratio': None,\n",
       " 'max_iter': 100,\n",
       " 'multi_class': 'auto',\n",
       " 'n_jobs': None,\n",
       " 'penalty': 'l2',\n",
       " 'random_state': None,\n",
       " 'solver': 'lbfgs',\n",
       " 'tol': 0.0001,\n",
       " 'verbose': 0,\n",
       " 'warm_start': False}"
      ]
     },
     "execution_count": 77,
     "metadata": {},
     "output_type": "execute_result"
    }
   ],
   "source": [
    "log_model.get_params()"
   ]
  },
  {
   "cell_type": "markdown",
   "id": "df9fa6ac",
   "metadata": {},
   "source": [
    "# Predicting my train data"
   ]
  },
  {
   "cell_type": "code",
   "execution_count": 78,
   "id": "0f353d3b",
   "metadata": {},
   "outputs": [
    {
     "data": {
      "text/plain": [
       "array([1, 0, 0, 0, 1, 1, 1, 0, 1, 0, 0, 1, 1, 0, 1, 1, 1, 0, 1, 1, 0, 1,\n",
       "       0, 1, 0, 0, 0, 1, 0, 1, 1, 0, 0, 1, 1, 0, 1, 1, 0, 0, 1, 1, 1, 1,\n",
       "       1, 0, 0, 0, 1, 0, 1, 0, 0, 1, 1, 1, 1, 0, 1, 1, 1, 0, 0, 0, 0, 0,\n",
       "       0, 1, 1, 1, 1, 0, 0, 1, 0, 1, 0, 0, 1, 0, 1, 0, 0, 1, 1, 1, 0, 0,\n",
       "       1, 0, 0, 0, 0, 0, 0, 0, 0, 0, 1, 0, 1, 0, 0, 1, 1, 0, 0, 0, 1, 0,\n",
       "       0, 0, 1, 0, 1, 1, 0, 1, 0, 0, 0, 0, 1, 1, 1, 0, 0, 0, 0, 1, 0, 0,\n",
       "       1, 0, 0, 0, 1, 0, 0, 0, 1, 1, 0, 1, 1, 1, 1, 1, 0, 0, 0, 1, 1, 1,\n",
       "       1, 1, 1, 0, 1, 1, 1, 0, 1])"
      ]
     },
     "execution_count": 78,
     "metadata": {},
     "output_type": "execute_result"
    }
   ],
   "source": [
    "log_train_pred = log_model.predict(x_train)\n",
    "log_train_pred"
   ]
  },
  {
   "cell_type": "markdown",
   "id": "781d8c61",
   "metadata": {},
   "source": [
    "# Predicting my test data"
   ]
  },
  {
   "cell_type": "code",
   "execution_count": 79,
   "id": "7ccfabb9",
   "metadata": {},
   "outputs": [
    {
     "data": {
      "text/plain": [
       "array([0, 0, 0, 0, 0, 1, 0, 1, 1, 1, 1, 1, 1, 1, 0, 0, 0, 1, 0, 0, 1, 1,\n",
       "       0, 1, 0, 1, 0, 0, 1, 0, 0, 1, 0, 0, 1, 1, 1, 0, 1, 1, 0, 0, 1, 1,\n",
       "       0, 0, 0, 1, 0, 0, 0, 1, 0, 0, 0, 0, 0, 1, 1, 0, 0, 1, 0, 0, 1, 1,\n",
       "       0, 0, 0, 0, 0, 0, 0, 0, 0, 0, 0, 0, 0, 1, 0])"
      ]
     },
     "execution_count": 79,
     "metadata": {},
     "output_type": "execute_result"
    }
   ],
   "source": [
    "log_test_pred = log_model.predict(x_test)\n",
    "log_test_pred"
   ]
  },
  {
   "cell_type": "markdown",
   "id": "6a8364a5",
   "metadata": {},
   "source": [
    "# Performance Metrics"
   ]
  },
  {
   "cell_type": "markdown",
   "id": "14b49b32",
   "metadata": {},
   "source": [
    "# Accuracy"
   ]
  },
  {
   "cell_type": "code",
   "execution_count": 81,
   "id": "b899a83e",
   "metadata": {},
   "outputs": [
    {
     "data": {
      "text/plain": [
       "0.9753086419753086"
      ]
     },
     "execution_count": 81,
     "metadata": {},
     "output_type": "execute_result"
    }
   ],
   "source": [
    "accuracy_score(y_test,log_test_pred)"
   ]
  },
  {
   "cell_type": "markdown",
   "id": "a7f5f02c",
   "metadata": {},
   "source": [
    "# Confusion Matrix"
   ]
  },
  {
   "cell_type": "code",
   "execution_count": 82,
   "id": "35aad77d",
   "metadata": {},
   "outputs": [],
   "source": [
    "c = confusion_matrix(y_test, log_test_pred)"
   ]
  },
  {
   "cell_type": "code",
   "execution_count": 83,
   "id": "a9dabd06",
   "metadata": {},
   "outputs": [
    {
     "data": {
      "text/plain": [
       "<sklearn.metrics._plot.confusion_matrix.ConfusionMatrixDisplay at 0x11cc82640>"
      ]
     },
     "execution_count": 83,
     "metadata": {},
     "output_type": "execute_result"
    },
    {
     "data": {
      "image/png": "[encoded data removed]",
      "text/plain": [
       "<Figure size 432x288 with 2 Axes>"
      ]
     },
     "metadata": {
      "needs_background": "light"
     },
     "output_type": "display_data"
    }
   ],
   "source": [
    "c = ConfusionMatrixDisplay(c)\n",
    "c.plot()"
   ]
  },
  {
   "cell_type": "markdown",
   "id": "1f3ca076",
   "metadata": {},
   "source": [
    "# Classification Report"
   ]
  },
  {
   "cell_type": "code",
   "execution_count": 84,
   "id": "cf4d05aa",
   "metadata": {},
   "outputs": [
    {
     "name": "stdout",
     "output_type": "stream",
     "text": [
      "              precision    recall  f1-score   support\n",
      "\n",
      "           0       1.00      0.96      0.98        53\n",
      "           1       0.93      1.00      0.97        28\n",
      "\n",
      "    accuracy                           0.98        81\n",
      "   macro avg       0.97      0.98      0.97        81\n",
      "weighted avg       0.98      0.98      0.98        81\n",
      "\n"
     ]
    }
   ],
   "source": [
    "print(classification_report(y_test,log_test_pred))"
   ]
  },
  {
   "cell_type": "markdown",
   "id": "2ed7f314",
   "metadata": {},
   "source": [
    "# Recall Score"
   ]
  },
  {
   "cell_type": "code",
   "execution_count": 85,
   "id": "95fc9bc8",
   "metadata": {},
   "outputs": [],
   "source": [
    "#it is a forest fire symptom but has been classified as a non fire."
   ]
  },
  {
   "cell_type": "code",
   "execution_count": 86,
   "id": "4c14a8eb",
   "metadata": {},
   "outputs": [
    {
     "data": {
      "text/plain": [
       "1.0"
      ]
     },
     "execution_count": 86,
     "metadata": {},
     "output_type": "execute_result"
    }
   ],
   "source": [
    "recall_score(y_test,log_test_pred)"
   ]
  },
  {
   "cell_type": "markdown",
   "id": "8605b75a",
   "metadata": {},
   "source": [
    "# Area under Curve Score"
   ]
  },
  {
   "cell_type": "code",
   "execution_count": 87,
   "id": "e7f19561",
   "metadata": {},
   "outputs": [
    {
     "data": {
      "text/plain": [
       "0.9811320754716981"
      ]
     },
     "execution_count": 87,
     "metadata": {},
     "output_type": "execute_result"
    }
   ],
   "source": [
    "auc =roc_auc_score(y_test, log_test_pred)\n",
    "auc"
   ]
  },
  {
   "cell_type": "markdown",
   "id": "d9574507",
   "metadata": {},
   "source": [
    "# Receiver Operating Characteristic (ROC) Curve"
   ]
  },
  {
   "cell_type": "code",
   "execution_count": 89,
   "id": "b7c04ba7",
   "metadata": {},
   "outputs": [],
   "source": [
    "fpr, tpr, thresholds = roc_curve(y_test, log_test_pred)"
   ]
  },
  {
   "cell_type": "code",
   "execution_count": 90,
   "id": "cd0ef8a7",
   "metadata": {},
   "outputs": [
    {
     "data": {
      "image/png": "[encoded data removed]",
      "text/plain": [
       "<Figure size 432x288 with 1 Axes>"
      ]
     },
     "metadata": {
      "needs_background": "light"
     },
     "output_type": "display_data"
    }
   ],
   "source": [
    "plt.plot(fpr, tpr, color='orange', label='ROC')\n",
    "plt.plot([0, 1], [0, 1], color='darkblue', linestyle='--',label='ROC curve (area = %0.2f)' % auc)\n",
    "plt.xlabel('False Positive Rate')\n",
    "plt.ylabel('True Positive Rate')\n",
    "plt.title('Receiver Operating Characteristic (ROC) Curve')\n",
    "plt.legend()\n",
    "plt.show()"
   ]
  }
 ],
 "metadata": {
  "kernelspec": {
   "display_name": "Python 3 (ipykernel)",
   "language": "python",
   "name": "python3"
  },
  "language_info": {
   "codemirror_mode": {
    "name": "ipython",
    "version": 3
   },
   "file_extension": ".py",
   "mimetype": "text/x-python",
   "name": "python",
   "nbconvert_exporter": "python",
   "pygments_lexer": "ipython3",
   "version": "3.9.7"
  }
 },
 "nbformat": 4,
 "nbformat_minor": 5
}
